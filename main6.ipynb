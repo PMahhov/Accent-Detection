{
 "cells": [
  {
   "attachments": {},
   "cell_type": "markdown",
   "metadata": {},
   "source": [
    "- Accent-recognizing model, same as in main2.ipynb\n",
    "- Including Yamnet model.\n",
    "- Including hyperparam tuning.\n",
    "- Plugged the updated dataset from Alex and Peter."
   ]
  },
  {
   "cell_type": "code",
   "execution_count": null,
   "metadata": {},
   "outputs": [],
   "source": [
    "%pip install -U -q tensorflow tensorflow_datasets\n",
    "#apt install --allow-change-held-packages libcudnn8=8.1.0.77-1+cuda11.2\n",
    "%pip install -U -q keras-tuner"
   ]
  },
  {
   "cell_type": "code",
   "execution_count": 59,
   "metadata": {},
   "outputs": [],
   "source": [
    "import pandas as pd\n",
    "pd.options.mode.chained_assignment = None  # default='warn'\n",
    "import numpy as np\n",
    "import pathlib\n",
    "import os\n",
    "from os.path import isfile, join, splitext\n",
    "import librosa\n",
    "import soundfile as sf\n",
    "from pydub import AudioSegment\n",
    "from sklearn.model_selection import train_test_split\n",
    "from sklearn.model_selection import StratifiedShuffleSplit\n",
    "\n",
    "import tensorflow as tf\n",
    "from tensorflow import keras\n",
    "import tensorflow_io as tfio\n",
    "import tensorflow_hub as tfhub\n",
    "from keras.layers import Conv1D, MaxPooling1D, Flatten, Dense\n",
    "from keras.models import Sequential\n",
    "import keras_tuner as kt\n",
    "\n",
    "from scipy import stats\n",
    "import seaborn as sns\n",
    "import matplotlib.pyplot as plt\n",
    "from IPython.display import Audio\n",
    "\n",
    "SAMPLING_RATE = 16000\n",
    "EPOCHS = 50\n",
    "BATCH_SIZE = 128\n",
    "SHUFFLE_SEED = 42\n",
    "MODEL_NAME = \"MODEL6\"\n",
    "\n",
    "# Set the seed value for experiment reproducibility.\n",
    "tf.random.set_seed(SHUFFLE_SEED)\n",
    "np.random.seed(SHUFFLE_SEED)"
   ]
  },
  {
   "attachments": {},
   "cell_type": "markdown",
   "metadata": {},
   "source": [
    "### Prepare dataset using Yamnet model as feature-extractor\n",
    "\n",
    "Yamnet requires a slightly different way of preprocessing the dataset."
   ]
  },
  {
   "cell_type": "code",
   "execution_count": 24,
   "metadata": {},
   "outputs": [],
   "source": [
    "yamnet_model = tf.saved_model.load('./yamnet_1')"
   ]
  },
  {
   "cell_type": "code",
   "execution_count": 56,
   "metadata": {},
   "outputs": [
    {
     "name": "stdout",
     "output_type": "stream",
     "text": [
      "There are 53 classes.\n"
     ]
    }
   ],
   "source": [
    "dataframe = pd.read_csv(os.getcwd() + \"/data/audio10.csv\", on_bad_lines = 'skip' , delimiter= ';')\n",
    "# dataframe = dataframe[(dataframe['native_langs'] == 'english') | (dataframe['native_langs'] == 'spanish')]\n",
    "\n",
    "class_names = dataframe['class_labels'].unique()\n",
    "# lang_idxs = range(len(class_names))\n",
    "# class_dict = dict(zip(class_names, lang_idxs))\n",
    "print(f\"There are {len(class_names)} classes.\")\n",
    "\n",
    "# Rewrite file_name to contain file paths\n",
    "dataframe['file_name'] = dataframe.apply(\n",
    "    lambda row: os.path.join(os.getcwd(), 'data/downsampled', row['file_name'] + '.wav'), \n",
    "    axis=1\n",
    ")"
   ]
  },
  {
   "cell_type": "code",
   "execution_count": 25,
   "metadata": {},
   "outputs": [],
   "source": [
    "def load_16k_audio_wav(filename):\n",
    "    # Read file content\n",
    "    file_content = tf.io.read_file(filename)\n",
    "\n",
    "    # Decode audio wave\n",
    "    audio_wav, sample_rate = tf.audio.decode_wav(file_content, desired_channels=1)\n",
    "    audio_wav = tf.squeeze(audio_wav, axis=-1)\n",
    "    sample_rate = tf.cast(sample_rate, dtype=tf.int64)\n",
    "\n",
    "    # Resample to 16k\n",
    "    audio_wav = tfio.audio.resample(audio_wav, rate_in=sample_rate, rate_out=16000)\n",
    "    return audio_wav\n",
    "\n",
    "\n",
    "def filepath_to_embeddings(filename, label):\n",
    "    # Load 16k audio wave\n",
    "    audio_wav = load_16k_audio_wav(filename)\n",
    "\n",
    "    # Get audio embeddings & scores.\n",
    "    # The embeddings are the audio features extracted using transfer learning\n",
    "    # while scores will be used to identify time slots that are not speech\n",
    "    # which will then be gathered into a specific new category 'other'\n",
    "    scores, embeddings, _ = yamnet_model(audio_wav)\n",
    "\n",
    "    # Number of embeddings in order to know how many times to repeat the label\n",
    "    embeddings_num = tf.shape(embeddings)[0]\n",
    "    labels = tf.repeat(label, embeddings_num)\n",
    "\n",
    "    # Change labels for time-slots that are not speech into a new category 'other'\n",
    "    # labels = tf.where(tf.argmax(scores, axis=1) == 0, label, len(class_names) - 1)\n",
    "\n",
    "    # Using one-hot in order to use AUC\n",
    "    return (embeddings, tf.one_hot(labels, len(class_names)))\n",
    "\n",
    "\n",
    "def dataframe_to_dataset(df_x, df_y, batch_size=64):\n",
    "    # Convert the labels into numbers -- no longer necessary since we're targetting the class_labels column\n",
    "    # dataframe['native_langs'] = dataframe.apply(\n",
    "    #     lambda row: class_dict[row['native_langs']],\n",
    "    #     axis=1\n",
    "    # )\n",
    "\n",
    "    dataset = tf.data.Dataset.from_tensor_slices((df_x, df_y))\n",
    "\n",
    "    dataset = dataset.map(\n",
    "        lambda x, y: filepath_to_embeddings(x, y),\n",
    "        num_parallel_calls=tf.data.experimental.AUTOTUNE,\n",
    "    ).unbatch()\n",
    "\n",
    "    return dataset.cache().batch(batch_size).prefetch(tf.data.AUTOTUNE)"
   ]
  },
  {
   "cell_type": "code",
   "execution_count": 57,
   "metadata": {},
   "outputs": [
    {
     "name": "stdout",
     "output_type": "stream",
     "text": [
      "\n",
      "Splitting success!\n",
      "X: 2546, y: 2546\n",
      "X_train: 2036, y_train: 2036\n",
      "X_val: 255, y_val: 255\n",
      "X_test: 255, y_test: 255\n",
      "\n",
      "WARNING:tensorflow:Using a while_loop for converting IO>AudioResample cause there is no registered converter for this op.\n",
      "WARNING:tensorflow:Using a while_loop for converting IO>AudioResample cause there is no registered converter for this op.\n",
      "WARNING:tensorflow:Using a while_loop for converting IO>AudioResample cause there is no registered converter for this op.\n",
      "Conversion to dataset success!\n"
     ]
    }
   ],
   "source": [
    "X = dataframe.iloc[:, :-1]\n",
    "y = dataframe['class_labels']\n",
    "sss = StratifiedShuffleSplit(test_size=0.2, random_state=SHUFFLE_SEED)\n",
    "for train_index, test_val_index in sss.split(X, y):\n",
    "    X_train, X_test_val = X.iloc[train_index], X.iloc[test_val_index]\n",
    "    y_train, y_test_val = y.iloc[train_index], y.iloc[test_val_index]\n",
    "\n",
    "# additional split of test_val set to test and validation set\n",
    "sss_val = StratifiedShuffleSplit(test_size=0.5, random_state=SHUFFLE_SEED)\n",
    "for val_index, test_index in sss_val.split(X_test_val, y_test_val):\n",
    "    X_val, X_test = X_test_val.iloc[val_index], X_test_val.iloc[test_index]\n",
    "    y_val, y_test = y_test_val.iloc[val_index], y_test_val.iloc[test_index]\n",
    "\n",
    "print(f'''\n",
    "Splitting success!\n",
    "X: {len(X)}, y: {len(y)}\n",
    "X_train: {len(X_train)}, y_train: {len(y_train)}\n",
    "X_val: {len(X_val)}, y_val: {len(y_val)}\n",
    "X_test: {len(X_test)}, y_test: {len(y_test)}\n",
    "''')\n",
    "\n",
    "train_ds = dataframe_to_dataset(X_train['file_name'], y_train)\n",
    "validation_ds = dataframe_to_dataset(X_val['file_name'], y_val)\n",
    "test_ds = dataframe_to_dataset(X_test['file_name'], y_test)\n",
    "\n",
    "print('Conversion to dataset success!')"
   ]
  },
  {
   "attachments": {},
   "cell_type": "markdown",
   "metadata": {},
   "source": [
    "### Build the model for hyperparameter tuning"
   ]
  },
  {
   "cell_type": "code",
   "execution_count": 28,
   "metadata": {},
   "outputs": [],
   "source": [
    "def build_and_compile_model(hp):\n",
    "    inputs = keras.layers.Input(shape=(1024), name=\"embedding\")\n",
    "\n",
    "    # Tune the number of units in the first Dense layer. Choose an optimal value between 32-512\n",
    "    hp_units = hp.Int('dense_layer_1', min_value=32, max_value=512, step=32)\n",
    "    x = keras.layers.Dense(units=hp_units, activation=\"relu\", name=\"dense_1\")(inputs)\n",
    "    x = keras.layers.Dropout(0.15, name=\"dropout_1\")(x)\n",
    "\n",
    "    x = keras.layers.Dense(384, activation=\"relu\", name=\"dense_2\")(x)\n",
    "    x = keras.layers.Dropout(0.2, name=\"dropout_2\")(x)\n",
    "\n",
    "    x = keras.layers.Dense(192, activation=\"relu\", name=\"dense_3\")(x)\n",
    "    x = keras.layers.Dropout(0.25, name=\"dropout_3\")(x)\n",
    "\n",
    "    x = keras.layers.Dense(384, activation=\"relu\", name=\"dense_4\")(x)\n",
    "    x = keras.layers.Dropout(0.2, name=\"dropout_4\")(x)\n",
    "\n",
    "    outputs = keras.layers.Dense(len(class_names), activation=\"softmax\", name=\"ouput\")(x)\n",
    "\n",
    "    model = keras.Model(inputs=inputs, outputs=outputs, name=\"accent_recognition\")\n",
    "\n",
    "    # Tune the learning rate for the optimizer. Choose an optimal value from 0.001, 0.0001, or 1.9644e-5\n",
    "    hp_learning_rate = hp.Choice('learning_rate', values=[1e-3, 1e-4, 1.9644e-5])\n",
    "    model.compile(\n",
    "        optimizer=keras.optimizers.Adam(learning_rate=hp_learning_rate),\n",
    "        loss=keras.losses.CategoricalCrossentropy(),\n",
    "        metrics=[\"accuracy\", keras.metrics.AUC(name=\"auc\")],\n",
    "    )\n",
    "    # model.summary()\n",
    "\n",
    "    return model"
   ]
  },
  {
   "cell_type": "code",
   "execution_count": 30,
   "metadata": {},
   "outputs": [
    {
     "name": "stdout",
     "output_type": "stream",
     "text": [
      "Trial 39 Complete [00h 01m 18s]\n",
      "val_accuracy: 0.21359027922153473\n",
      "\n",
      "Best val_accuracy So Far: 0.21359027922153473\n",
      "Total elapsed time: 02h 52m 42s\n",
      "INFO:tensorflow:Oracle triggered exit\n",
      "\n",
      "The hyperparameter search is complete. \n",
      "The optimal number of units in the first densely-connected layers is 352. \n",
      "The optimal learning rate for the optimizer is 0.001.\n",
      "\n"
     ]
    }
   ],
   "source": [
    "# Instantiate the hyperparameter tuner. \n",
    "# Set overwrite=False to continue the search from last session, overwrite=True to start new search everytime.\n",
    "\n",
    "tuner = kt.Hyperband(build_and_compile_model,\n",
    "                    objective='val_accuracy',\n",
    "                    max_epochs=20,\n",
    "                    factor=3,\n",
    "                    hyperband_iterations=10,\n",
    "                    directory='uu_accent_detection_dir',\n",
    "                    project_name='uu_accent_detection',\n",
    "                    overwrite=False)\n",
    "\n",
    "stop_early = tf.keras.callbacks.EarlyStopping(monitor='val_loss', patience=5)\n",
    "\n",
    "tuner.search(train_ds, \n",
    "            epochs=20, \n",
    "            validation_data=validation_ds, \n",
    "            callbacks=[stop_early],\n",
    "            verbose=2)\n",
    "\n",
    "# Get the optimal hyperparameters\n",
    "best_hps = tuner.get_best_hyperparameters(num_trials=1)[0]\n",
    "\n",
    "print(f\"\"\"\n",
    "The hyperparameter search is complete. \n",
    "The optimal number of units in the first densely-connected layers is {best_hps.get('dense_layer_1')}. \n",
    "The optimal learning rate for the optimizer is {best_hps.get('learning_rate')}.\n",
    "\"\"\")"
   ]
  },
  {
   "attachments": {},
   "cell_type": "markdown",
   "metadata": {},
   "source": [
    "#### Class weight calculation\n",
    "\n",
    "Since the dataset is quite unbalanced, we wil use class_weight argument during training.\n",
    "\n",
    "Getting the class weights is a little tricky because even though we know the number of audio files for each class, it does not represent the number of samples for that class since Yamnet transforms each audio file into multiple audio samples of 0.96 seconds each. So every audio file will be split into a number of samples that is proportional to its length.\n",
    "\n",
    "Therefore, to get those weights, we have to calculate the number of samples for each class after preprocessing through Yamnet."
   ]
  },
  {
   "cell_type": "code",
   "execution_count": 60,
   "metadata": {},
   "outputs": [
    {
     "name": "stdout",
     "output_type": "stream",
     "text": [
      "{0: 1.6871604973848393, 1: inf, 2: inf, 3: 214.45787545787545, 4: inf, 5: inf, 6: 81.48503827418233, 7: 10.525303370786517, 8: inf, 9: inf, 10: inf, 11: inf, 12: inf, 13: inf, 14: inf, 15: inf, 16: inf, 17: inf, 18: inf, 19: inf, 20: inf, 21: 110.98957345971564, 22: 205.06830122591944, 23: 127.4145810663765, 24: inf, 25: inf, 26: 69.12278630460449, 27: inf, 28: inf, 29: inf, 30: inf, 31: inf, 32: inf, 33: inf, 34: inf, 35: inf, 36: inf, 37: inf, 38: 178.22526636225265, 39: inf, 40: 52.041777777777774, 41: inf, 42: inf, 43: 4.757404623572909, 44: 144.0270602706027, 45: inf, 46: inf, 47: inf, 48: inf, 49: 58.226752859273994, 50: inf, 51: inf, 52: inf}\n"
     ]
    },
    {
     "name": "stderr",
     "output_type": "stream",
     "text": [
      "/var/folders/3p/fc9cp69s1lsfgnzqtqtddvz00000gn/T/ipykernel_36211/1312827400.py:9: RuntimeWarning: divide by zero encountered in int_scalars\n",
      "  i: tf.math.reduce_sum(class_counts).numpy() / class_counts[i].numpy()\n"
     ]
    }
   ],
   "source": [
    "class_counts = tf.zeros(shape=(len(class_names),), dtype=tf.int32)\n",
    "\n",
    "for x, y in iter(train_ds):\n",
    "    class_counts = class_counts + tf.math.bincount(\n",
    "        tf.cast(tf.math.argmax(y, axis=1), tf.int32), minlength=len(class_names)\n",
    "    )\n",
    "\n",
    "class_weight = {\n",
    "    i: tf.math.reduce_sum(class_counts).numpy() / class_counts[i].numpy()\n",
    "    for i in range(len(class_counts))\n",
    "}\n",
    "\n",
    "print(class_weight)"
   ]
  },
  {
   "attachments": {},
   "cell_type": "markdown",
   "metadata": {},
   "source": [
    "### Train the model"
   ]
  },
  {
   "attachments": {},
   "cell_type": "markdown",
   "metadata": {},
   "source": [
    "We use Keras callbacks in order to:\n",
    "\n",
    "- Stop whenever the validation AUC stops improving.\n",
    "- Save the best model.\n",
    "- Call TensorBoard in order to later view the training and validation logs."
   ]
  },
  {
   "cell_type": "code",
   "execution_count": 62,
   "metadata": {},
   "outputs": [
    {
     "name": "stdout",
     "output_type": "stream",
     "text": [
      "Epoch 1/50\n",
      "1830/1830 - 30s - loss: 41.9586 - accuracy: 0.0287 - auc: 0.8691 - val_loss: 1.1381 - val_accuracy: 0.0038 - val_auc: 0.9027 - 30s/epoch - 16ms/step\n",
      "Epoch 2/50\n",
      "1830/1830 - 23s - loss: 205.4545 - accuracy: 0.0200 - auc: 0.8215 - val_loss: 1.1967 - val_accuracy: 0.0175 - val_auc: 0.8811 - 23s/epoch - 13ms/step\n",
      "Epoch 3/50\n",
      "1830/1830 - 23s - loss: 503.8290 - accuracy: 0.0261 - auc: 0.7700 - val_loss: 1.0802 - val_accuracy: 0.0208 - val_auc: 0.8950 - 23s/epoch - 13ms/step\n",
      "Epoch 4/50\n",
      "1830/1830 - 23s - loss: 14217.5459 - accuracy: 0.0328 - auc: 0.6575 - val_loss: 100.7982 - val_accuracy: 0.0044 - val_auc: 0.4957 - 23s/epoch - 12ms/step\n",
      "Epoch 5/50\n",
      "1830/1830 - 20s - loss: 80202.3125 - accuracy: 0.0360 - auc: 0.5362 - val_loss: 5187.1733 - val_accuracy: 0.0044 - val_auc: 0.4957 - 20s/epoch - 11ms/step\n",
      "Epoch 6/50\n",
      "1830/1830 - 23s - loss: 589200.5625 - accuracy: 0.0342 - auc: 0.5329 - val_loss: 58471.6445 - val_accuracy: 0.0044 - val_auc: 0.4957 - 23s/epoch - 12ms/step\n",
      "Epoch 7/50\n",
      "1830/1830 - 23s - loss: 5521835.0000 - accuracy: 0.0390 - auc: 0.5388 - val_loss: 546088.0625 - val_accuracy: 0.0044 - val_auc: 0.4957 - 23s/epoch - 13ms/step\n",
      "Epoch 8/50\n",
      "1830/1830 - 29s - loss: 49300628.0000 - accuracy: 0.0376 - auc: 0.5370 - val_loss: 6292421.5000 - val_accuracy: 0.0044 - val_auc: 0.4957 - 29s/epoch - 16ms/step\n",
      "Epoch 9/50\n",
      "1830/1830 - 24s - loss: 309700736.0000 - accuracy: 0.0339 - auc: 0.5324 - val_loss: 47120088.0000 - val_accuracy: 0.0044 - val_auc: 0.4957 - 24s/epoch - 13ms/step\n",
      "Epoch 10/50\n",
      "1830/1830 - 30s - loss: 1605255680.0000 - accuracy: 0.0416 - auc: 0.5419 - val_loss: 212366560.0000 - val_accuracy: 0.0044 - val_auc: 0.4957 - 30s/epoch - 16ms/step\n",
      "Epoch 11/50\n",
      "1830/1830 - 23s - loss: 5955019264.0000 - accuracy: 0.0388 - auc: 0.5385 - val_loss: 588003904.0000 - val_accuracy: 0.0044 - val_auc: 0.4957 - 23s/epoch - 13ms/step\n"
     ]
    }
   ],
   "source": [
    "# Build the model with the optimal hyperparameters and train it on the data for 50 epochs\n",
    "hypermodel = tuner.hypermodel.build(best_hps)\n",
    "\n",
    "early_stopping_cb = keras.callbacks.EarlyStopping(monitor=\"val_auc\", patience=10, restore_best_weights=True)\n",
    "model_checkpoint_cb = keras.callbacks.ModelCheckpoint(MODEL_NAME + \".h5\", monitor=\"val_auc\", save_best_only=True)\n",
    "tensorboard_cb = keras.callbacks.TensorBoard(os.path.join(os.curdir, \"logs\", hypermodel.name))\n",
    "\n",
    "callbacks = [early_stopping_cb, model_checkpoint_cb, tensorboard_cb]\n",
    "hp = kt.HyperParameters()\n",
    "\n",
    "history = hypermodel.fit(train_ds, \n",
    "                        validation_data=validation_ds,\n",
    "                        epochs=EPOCHS,\n",
    "                        class_weight=class_weight,\n",
    "                        batch_size=hp.Choice(name='batch_size', values=[16, 32]),\n",
    "                        callbacks=callbacks,\n",
    "                        verbose=2)\n",
    "\n",
    "# val_acc_per_epoch = history.history['val_accuracy']\n",
    "# best_epoch = val_acc_per_epoch.index(max(val_acc_per_epoch)) + 1\n",
    "# print('Best epoch: %d' % (best_epoch,))\n",
    "\n",
    "# Save model\n",
    "# hypermodel.save('tuned_model.h5')\n",
    "# Load model\n",
    "# model = keras.models.load_model('tuned_model.h5')"
   ]
  },
  {
   "attachments": {},
   "cell_type": "markdown",
   "metadata": {},
   "source": [
    "#### Evaluation"
   ]
  },
  {
   "cell_type": "code",
   "execution_count": 63,
   "metadata": {},
   "outputs": [
    {
     "name": "stdout",
     "output_type": "stream",
     "text": [
      "1830/1830 [==============================] - 12s 6ms/step - loss: 1.0786 - accuracy: 0.0057 - auc: 0.9027\n",
      "233/233 [==============================] - 1s 5ms/step - loss: 1.1381 - accuracy: 0.0038 - auc: 0.9027\n",
      "231/231 [==============================] - 68s 281ms/step - loss: 1.0524 - accuracy: 0.0044 - auc: 0.9033\n"
     ]
    }
   ],
   "source": [
    "train_loss, train_acc, train_auc = hypermodel.evaluate(train_ds)\n",
    "valid_loss, valid_acc, valid_auc = hypermodel.evaluate(validation_ds)\n",
    "test_loss, test_acc, test_auc = hypermodel.evaluate(test_ds)"
   ]
  },
  {
   "attachments": {},
   "cell_type": "markdown",
   "metadata": {},
   "source": [
    "Let's try to compare our model's performance to Yamnet's using one of Yamnet metrics (d-prime) Yamnet achieved a d-prime value of 2.318. Let's check our model's performance."
   ]
  },
  {
   "cell_type": "code",
   "execution_count": 64,
   "metadata": {},
   "outputs": [
    {
     "name": "stdout",
     "output_type": "stream",
     "text": [
      "train d-prime: 1.834, validation d-prime: 1.835\n"
     ]
    }
   ],
   "source": [
    "# The following function calculates the d-prime score from the AUC\n",
    "def d_prime(auc):\n",
    "    standard_normal = stats.norm()\n",
    "    d_prime = standard_normal.ppf(auc) * np.sqrt(2.0)\n",
    "    return d_prime\n",
    "\n",
    "\n",
    "print(\n",
    "    \"train d-prime: {0:.3f}, validation d-prime: {1:.3f}\".format(\n",
    "        d_prime(train_auc), d_prime(valid_auc)\n",
    "    )\n",
    ")"
   ]
  },
  {
   "attachments": {},
   "cell_type": "markdown",
   "metadata": {},
   "source": [
    "#### Results\n",
    "\n",
    "Plotting the accuracy and AUC results."
   ]
  },
  {
   "cell_type": "code",
   "execution_count": 65,
   "metadata": {},
   "outputs": [
    {
     "data": {
      "image/png": "[encoded data removed]",
      "text/plain": [
       "<Figure size 1400x500 with 2 Axes>"
      ]
     },
     "metadata": {},
     "output_type": "display_data"
    }
   ],
   "source": [
    "fig, axs = plt.subplots(nrows=1, ncols=2, figsize=(14, 5))\n",
    "\n",
    "axs[0].plot(range(len(history.history[\"accuracy\"])), history.history[\"accuracy\"], label=\"Training\")\n",
    "axs[0].plot(range(len(history.history[\"val_accuracy\"])), history.history[\"val_accuracy\"], label=\"Validation\")\n",
    "axs[0].set_xlabel(\"Epochs\")\n",
    "axs[0].set_title(\"Training & Validation Accuracy\")\n",
    "axs[0].legend()\n",
    "axs[0].grid(True)\n",
    "\n",
    "axs[1].plot(range(len(history.history[\"auc\"])), history.history[\"auc\"], label=\"Training\")\n",
    "axs[1].plot(range(len(history.history[\"val_auc\"])), history.history[\"val_auc\"], label=\"Validation\")\n",
    "axs[1].set_xlabel(\"Epochs\")\n",
    "axs[1].set_title(\"Training & Validation AUC\")\n",
    "axs[1].legend()\n",
    "axs[1].grid(True)\n",
    "\n",
    "plt.show()"
   ]
  },
  {
   "attachments": {},
   "cell_type": "markdown",
   "metadata": {},
   "source": [
    "#### Confusion Matrix\n",
    "\n",
    "Let's now plot the confusion matrix for the validation dataset.\n",
    "\n",
    "The confusion matrix lets us see, for every class, not only how many samples were correctly classified, but also which other classes were the samples confused with.\n",
    "\n",
    "It allows us to calculate the precision and recall for every class."
   ]
  },
  {
   "cell_type": "code",
   "execution_count": null,
   "metadata": {},
   "outputs": [],
   "source": [
    "# Create x and y tensors\n",
    "x_valid = None\n",
    "y_valid = None\n",
    "\n",
    "for x, y in iter(validation_ds):\n",
    "    if x_valid is None:\n",
    "        x_valid = x.numpy()\n",
    "        y_valid = y.numpy()\n",
    "    else:\n",
    "        x_valid = np.concatenate((x_valid, x.numpy()), axis=0)\n",
    "        y_valid = np.concatenate((y_valid, y.numpy()), axis=0)\n",
    "\n",
    "# Generate predictions\n",
    "y_pred = hypermodel.predict(x_valid)\n",
    "\n",
    "# Calculate confusion matrix\n",
    "confusion_mtx = tf.math.confusion_matrix(\n",
    "    np.argmax(y_valid, axis=1), np.argmax(y_pred, axis=1)\n",
    ")\n",
    "\n",
    "# Plot the confusion matrix\n",
    "plt.figure(figsize=(10, 8))\n",
    "sns.heatmap(\n",
    "    confusion_mtx, xticklabels=class_names, yticklabels=class_names, annot=True, fmt=\"g\"\n",
    ")\n",
    "plt.xlabel(\"Prediction\")\n",
    "plt.ylabel(\"Label\")\n",
    "plt.title(\"Validation Confusion Matrix\")\n",
    "plt.show()"
   ]
  },
  {
   "attachments": {},
   "cell_type": "markdown",
   "metadata": {},
   "source": [
    "#### Precision & Recall\n",
    "\n",
    "For every class:\n",
    "\n",
    "- Recall is the ratio of correctly classified samples i.e. it shows how many samples of this specific class, the model is able to detect. It is the ratio of diagonal elements to the sum of all elements in the row.\n",
    "- Precision shows the accuracy of the classifier. It is the ratio of correctly predicted samples among the ones classified as belonging to this class. It is the ratio of diagonal elements to the sum of all elements in the column."
   ]
  },
  {
   "cell_type": "code",
   "execution_count": null,
   "metadata": {},
   "outputs": [],
   "source": [
    "for i, label in enumerate(class_names):\n",
    "    precision = confusion_mtx[i, i] / np.sum(confusion_mtx[:, i])\n",
    "    recall = confusion_mtx[i, i] / np.sum(confusion_mtx[i, :])\n",
    "    print(\n",
    "        \"{0:15} Precision:{1:.2f}%; Recall:{2:.2f}%\".format(\n",
    "            label, precision * 100, recall * 100\n",
    "        )\n",
    "    )"
   ]
  }
 ],
 "metadata": {
  "kernelspec": {
   "display_name": "Python 3",
   "language": "python",
   "name": "python3"
  },
  "language_info": {
   "codemirror_mode": {
    "name": "ipython",
    "version": 3
   },
   "file_extension": ".py",
   "mimetype": "text/x-python",
   "name": "python",
   "nbconvert_exporter": "python",
   "pygments_lexer": "ipython3",
   "version": "3.10.7"
  },
  "orig_nbformat": 4,
  "vscode": {
   "interpreter": {
    "hash": "aee8b7b246df8f9039afb4144a1f6fd8d2ca17a180786b69acc140d282b71a49"
   }
  }
 },
 "nbformat": 4,
 "nbformat_minor": 2
}
