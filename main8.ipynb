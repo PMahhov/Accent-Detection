{
 "cells": [
  {
   "attachments": {},
   "cell_type": "markdown",
   "metadata": {},
   "source": [
    "In this experiment, we do the following:\n",
    "* Transfer learning using the pre-trained model _Yamnet_ as feature extractor.\n",
    "\n",
    "Result:\n",
    "?\n",
    "\n",
    "Backlog:\n",
    "* Hyperparameter tuning for the upper layers."
   ]
  },
  {
   "attachments": {},
   "cell_type": "markdown",
   "metadata": {},
   "source": [
    "## No hyperparams tuning\n",
    "\n",
    "Simply replicating Keras example at https://keras.io/examples/audio/uk_ireland_accent_recognition"
   ]
  },
  {
   "cell_type": "code",
   "execution_count": null,
   "metadata": {},
   "outputs": [],
   "source": [
    "%pip install -U -q tensorflow tensorflow_datasets\n",
    "#apt install --allow-change-held-packages libcudnn8=8.1.0.77-1+cuda11.2\n",
    "%pip install -U -q keras-tuner\n",
    "%pip install -U -q visualkeras"
   ]
  },
  {
   "cell_type": "code",
   "execution_count": 1,
   "metadata": {},
   "outputs": [
    {
     "name": "stderr",
     "output_type": "stream",
     "text": [
      "2023-01-27 02:23:00.246678: I tensorflow/core/platform/cpu_feature_guard.cc:193] This TensorFlow binary is optimized with oneAPI Deep Neural Network Library (oneDNN) to use the following CPU instructions in performance-critical operations:  AVX2 FMA\n",
      "To enable them in other operations, rebuild TensorFlow with the appropriate compiler flags.\n",
      "/Library/Frameworks/Python.framework/Versions/3.10/lib/python3.10/site-packages/pydub/utils.py:170: RuntimeWarning: Couldn't find ffmpeg or avconv - defaulting to ffmpeg, but may not work\n",
      "  warn(\"Couldn't find ffmpeg or avconv - defaulting to ffmpeg, but may not work\", RuntimeWarning)\n"
     ]
    }
   ],
   "source": [
    "import pandas as pd\n",
    "pd.options.mode.chained_assignment = None  # default='warn'\n",
    "import numpy as np\n",
    "import pathlib\n",
    "import os\n",
    "from os.path import isfile, join, splitext\n",
    "\n",
    "import tensorflow as tf\n",
    "from tensorflow import keras\n",
    "import tensorflow_io as tfio\n",
    "import tensorflow_hub as tfhub\n",
    "from keras.layers import Conv1D, MaxPooling1D, Flatten, Dense\n",
    "from keras.models import Sequential\n",
    "import keras_tuner as kt\n",
    "\n",
    "from sklearn.model_selection import train_test_split\n",
    "from sklearn.model_selection import StratifiedShuffleSplit\n",
    "from scipy import stats\n",
    "import seaborn as sns\n",
    "import matplotlib.pyplot as plt\n",
    "from IPython.display import Audio\n",
    "from pydub import AudioSegment\n",
    "import soundfile as sf\n",
    "import time\n",
    "import visualkeras\n",
    "\n",
    "SAMPLING_RATE = 16000\n",
    "EPOCHS = 50\n",
    "BATCH_SIZE = 128\n",
    "SHUFFLE_SEED = 42\n",
    "TUNING_DIRECTORY = \"model8_tuning_dir\"\n",
    "PROJECT_NAME = \"model8_tuning\"\n",
    "MODEL_NAME = \"MODEL8\"\n",
    "\n",
    "# Set the seed value for experiment reproducibility.\n",
    "tf.random.set_seed(SHUFFLE_SEED)\n",
    "np.random.seed(SHUFFLE_SEED)"
   ]
  },
  {
   "attachments": {},
   "cell_type": "markdown",
   "metadata": {},
   "source": [
    "### Prepare Dataset"
   ]
  },
  {
   "cell_type": "code",
   "execution_count": 2,
   "metadata": {},
   "outputs": [
    {
     "name": "stdout",
     "output_type": "stream",
     "text": [
      "Success loading dataset! There are 53 classes.\n"
     ]
    }
   ],
   "source": [
    "df_train = pd.read_csv(os.getcwd() + \"/data/audio10-aug-train.csv\", delimiter= ';')\n",
    "df_val = pd.read_csv(os.getcwd() + \"/data/audio10-aug-val.csv\", delimiter=';')\n",
    "df_test = pd.read_csv(os.getcwd() + \"/data/audio10-aug-test.csv\", delimiter=';')\n",
    "\n",
    "# Rewrite file_name to contain file paths\n",
    "df_train['file_name'] = df_train.apply(\n",
    "    lambda row: os.path.join(os.getcwd(), 'data/augmented', row['file_name'] + '.wav'), \n",
    "    axis=1\n",
    ")\n",
    "df_val['file_name'] = df_val.apply(\n",
    "    lambda row: os.path.join(os.getcwd(), 'data/augmented', row['file_name'] + '.wav'), \n",
    "    axis=1\n",
    ")\n",
    "df_test['file_name'] = df_test.apply(\n",
    "    lambda row: os.path.join(os.getcwd(), 'data/augmented', row['file_name'] + '.wav'), \n",
    "    axis=1\n",
    ")\n",
    "\n",
    "class_names = df_train['class_labels'].unique()\n",
    "# lang_idxs = range(len(class_names))\n",
    "# class_dict = dict(zip(class_names, lang_idxs))\n",
    "print(f\"Success loading dataset! There are {len(class_names)} classes.\")  # should be 53 classes\n"
   ]
  },
  {
   "cell_type": "code",
   "execution_count": 3,
   "metadata": {},
   "outputs": [
    {
     "name": "stderr",
     "output_type": "stream",
     "text": [
      "2023-01-27 02:23:38.178355: I tensorflow/core/platform/cpu_feature_guard.cc:193] This TensorFlow binary is optimized with oneAPI Deep Neural Network Library (oneDNN) to use the following CPU instructions in performance-critical operations:  AVX2 FMA\n",
      "To enable them in other operations, rebuild TensorFlow with the appropriate compiler flags.\n"
     ]
    }
   ],
   "source": [
    "yamnet_model = tf.saved_model.load('./yamnet_1')"
   ]
  },
  {
   "cell_type": "code",
   "execution_count": 28,
   "metadata": {},
   "outputs": [],
   "source": [
    "def load_16k_audio_wav(filename):\n",
    "    # Read file content\n",
    "    file_content = tf.io.read_file(filename)\n",
    "\n",
    "    # Decode audio wave\n",
    "    audio_wav, sample_rate = tf.audio.decode_wav(file_content, desired_channels=1)\n",
    "    audio_wav = tf.squeeze(audio_wav, axis=-1)\n",
    "    sample_rate = tf.cast(sample_rate, dtype=tf.int64)\n",
    "\n",
    "    # Resample to 16k\n",
    "    audio_wav = tfio.audio.resample(audio_wav, rate_in=sample_rate, rate_out=16000)\n",
    "    return audio_wav\n",
    "\n",
    "\n",
    "def filepath_to_embeddings(filename, label):\n",
    "    # Load 16k audio wave\n",
    "    audio_wav = load_16k_audio_wav(filename)\n",
    "\n",
    "    # Get audio embeddings & scores.\n",
    "    # The embeddings are the audio features extracted using transfer learning\n",
    "    # while scores will be used to identify time slots that are not speech\n",
    "    # which will then be gathered into a specific new category 'other'\n",
    "    scores, embeddings, _ = yamnet_model(audio_wav)\n",
    "\n",
    "    # Number of embeddings in order to know how many times to repeat the label\n",
    "    embeddings_num = tf.shape(embeddings)[0]\n",
    "    labels = tf.repeat(label, embeddings_num)\n",
    "\n",
    "    # Change labels for time-slots that are not speech into a new category 'other'\n",
    "    # labels = tf.where(tf.argmax(scores, axis=1) == 0, label, len(class_names) - 1)\n",
    "\n",
    "    # Using one-hot in order to use AUC\n",
    "    return (embeddings, tf.one_hot(labels, len(class_names)))\n",
    "\n",
    "\n",
    "def dataframe_to_dataset(df_x, df_y, batch_size=64):\n",
    "    # Convert the labels into numbers -- no longer necessary since we're targetting the class_labels column\n",
    "    # dataframe['native_langs'] = dataframe.apply(\n",
    "    #     lambda row: class_dict[row['native_langs']],\n",
    "    #     axis=1\n",
    "    # )\n",
    "\n",
    "    dataset = tf.data.Dataset.from_tensor_slices((df_x, df_y))\n",
    "\n",
    "    dataset = dataset.map(\n",
    "        lambda x, y: filepath_to_embeddings(x, y),\n",
    "        num_parallel_calls=tf.data.experimental.AUTOTUNE,\n",
    "    ).unbatch()\n",
    "\n",
    "    return dataset.cache().batch(batch_size).prefetch(tf.data.AUTOTUNE)"
   ]
  },
  {
   "cell_type": "code",
   "execution_count": 5,
   "metadata": {},
   "outputs": [
    {
     "name": "stdout",
     "output_type": "stream",
     "text": [
      "\n",
      "Splitting success!\n",
      "X_train: 10400, y_train: 10400\n",
      "X_val: 1165, y_val: 1165\n",
      "X_test: 1165, y_test: 1165\n",
      "\n",
      "WARNING:tensorflow:From /Library/Frameworks/Python.framework/Versions/3.10/lib/python3.10/site-packages/tensorflow/python/autograph/pyct/static_analysis/liveness.py:83: Analyzer.lamba_check (from tensorflow.python.autograph.pyct.static_analysis.liveness) is deprecated and will be removed after 2023-09-23.\n",
      "Instructions for updating:\n",
      "Lambda fuctions will be no more assumed to be used in the statement where they are used, or at least in the same block. https://github.com/tensorflow/tensorflow/issues/56089\n"
     ]
    },
    {
     "name": "stderr",
     "output_type": "stream",
     "text": [
      "2023-01-27 02:23:53.424129: I tensorflow_io/core/kernels/cpu_check.cc:128] Your CPU supports instructions that this TensorFlow IO binary was not compiled to use: AVX2 FMA\n"
     ]
    },
    {
     "name": "stdout",
     "output_type": "stream",
     "text": [
      "WARNING:tensorflow:Using a while_loop for converting IO>AudioResample cause there is no registered converter for this op.\n",
      "WARNING:tensorflow:Using a while_loop for converting IO>AudioResample cause there is no registered converter for this op.\n",
      "WARNING:tensorflow:Using a while_loop for converting IO>AudioResample cause there is no registered converter for this op.\n",
      "Conversion to dataset success!\n"
     ]
    }
   ],
   "source": [
    "X_train = df_train.iloc[:, :-1]\n",
    "X_val = df_val.iloc[:, :-1]\n",
    "X_test = df_test.iloc[:, :-1]\n",
    "y_train = df_train['class_labels']\n",
    "y_val = df_val['class_labels']\n",
    "y_test = df_test['class_labels']\n",
    "\n",
    "print(f'''\n",
    "Splitting success!\n",
    "X_train: {len(X_train)}, y_train: {len(y_train)}\n",
    "X_val: {len(X_val)}, y_val: {len(y_val)}\n",
    "X_test: {len(X_test)}, y_test: {len(y_test)}\n",
    "''')\n",
    "\n",
    "train_ds = dataframe_to_dataset(X_train['file_name'], y_train)\n",
    "val_ds = dataframe_to_dataset(X_val['file_name'], y_val)\n",
    "test_ds = dataframe_to_dataset(X_test['file_name'], y_test)\n",
    "\n",
    "print('Conversion to dataset success!')"
   ]
  },
  {
   "cell_type": "code",
   "execution_count": 6,
   "metadata": {},
   "outputs": [
    {
     "name": "stdout",
     "output_type": "stream",
     "text": [
      "{0: 195.9115529653754, 1: 80.72806893629044, 2: 10.508707085195196, 3: 103.04255319148936, 4: 224.3714173537495, 5: 133.08663251047975, 6: 70.2920049200492, 7: 196.58548331613346, 8: 52.56383370125092, 9: 4.814034200994019, 10: 130.68236908300938, 11: 54.66035389765663, 12: 176.9817280891917, 13: 30.569915480902964, 14: 63.4477628511158, 15: 137.34054313866858, 16: 147.0218677643427, 17: 226.95552025416998, 18: 270.2004728132388, 19: 80.2857544254004, 20: 160.30126227208976, 21: 173.38410194174756, 22: 66.18112333526346, 23: 52.87509252405626, 24: 231.17880258899677, 25: 24.732710118583917, 26: 200.16602451838878, 27: 101.18165722379604, 28: 14.803875346475662, 29: 251.4183897932248, 30: 181.3052030456853, 31: 222.62329567588625, 32: 123.18904936408708, 33: 188.23254281949934, 34: 70.74449121069571, 35: 39.46098605165032, 36: 178.52983442674164, 37: 112.89490320031608, 38: 30.702949551388816, 39: 136.2923920820415, 40: 206.7561505065123, 41: 9.87069918474506, 42: 121.46099893730074, 43: 82.3686941481695, 44: 186.08726799088245, 45: 167.0, 46: 218.87169666794333, 47: 188.4187273326739, 48: 94.44290199966947, 49: 63.47595246029101, 50: 193.19607843137254, 51: 84.4750923872875, 52: 51.79679144385027}\n"
     ]
    }
   ],
   "source": [
    "class_counts = tf.zeros(shape=(len(class_names),), dtype=tf.int32)\n",
    "\n",
    "for x, y in iter(train_ds):\n",
    "    class_counts = class_counts + tf.math.bincount(\n",
    "        tf.cast(tf.math.argmax(y, axis=1), tf.int32), minlength=len(class_names)\n",
    "    )\n",
    "\n",
    "class_weight = {\n",
    "    i: tf.math.reduce_sum(class_counts).numpy() / class_counts[i].numpy()\n",
    "    for i in range(len(class_counts))\n",
    "}\n",
    "\n",
    "print(class_weight)"
   ]
  },
  {
   "cell_type": "code",
   "execution_count": 7,
   "metadata": {},
   "outputs": [],
   "source": [
    "from keras import backend as K\n",
    "\n",
    "def get_f1(y_true, y_pred): #taken from old keras source code\n",
    "    true_positives = K.sum(K.round(K.clip(y_true * y_pred, 0, 1)))\n",
    "    possible_positives = K.sum(K.round(K.clip(y_true, 0, 1)))\n",
    "    predicted_positives = K.sum(K.round(K.clip(y_pred, 0, 1)))\n",
    "    precision = true_positives / (predicted_positives + K.epsilon())\n",
    "    recall = true_positives / (possible_positives + K.epsilon())\n",
    "    f1_val = 2*(precision*recall)/(precision+recall+K.epsilon())\n",
    "    return f1_val"
   ]
  },
  {
   "cell_type": "code",
   "execution_count": 8,
   "metadata": {},
   "outputs": [],
   "source": [
    "def build_and_compile_model(d1, d2, d3, d4, learning):\n",
    "    inputs = keras.layers.Input(shape=(1024), name=\"embedding\")\n",
    "    x = visualkeras.SpacingDummyLayer(spacing=50)(inputs)\n",
    "\n",
    "    x = keras.layers.Dense(256, activation=\"relu\", name=\"dense_1\")(x)\n",
    "    x = keras.layers.Dropout(d1, name=\"dropout_1\")(x)\n",
    "    x = visualkeras.SpacingDummyLayer(spacing=50)(x)\n",
    "\n",
    "    x = keras.layers.Dense(384, activation=\"relu\", name=\"dense_2\")(x)\n",
    "    x = keras.layers.Dropout(d2, name=\"dropout_2\")(x)\n",
    "    x = visualkeras.SpacingDummyLayer(spacing=50)(x)\n",
    "\n",
    "    x = keras.layers.Dense(192, activation=\"relu\", name=\"dense_3\")(x)\n",
    "    x = keras.layers.Dropout(d3, name=\"dropout_3\")(x)\n",
    "    x = visualkeras.SpacingDummyLayer(spacing=50)(x)\n",
    "\n",
    "    x = keras.layers.Dense(384, activation=\"relu\", name=\"dense_4\")(x)\n",
    "    x = keras.layers.Dropout(d4, name=\"dropout_4\")(x)\n",
    "    x = visualkeras.SpacingDummyLayer(spacing=50)(x)\n",
    "\n",
    "    outputs = keras.layers.Dense(len(class_names), activation=\"softmax\", name=\"ouput\")(\n",
    "        x\n",
    "    )\n",
    "\n",
    "    model = keras.Model(inputs=inputs, outputs=outputs, name=\"accent_recognition\")\n",
    "\n",
    "    model.compile(\n",
    "        optimizer=keras.optimizers.Adam(learning_rate=learning),\n",
    "        loss=keras.losses.CategoricalCrossentropy(),\n",
    "        metrics=[\"accuracy\", get_f1],\n",
    "    )\n",
    "\n",
    "    return model"
   ]
  },
  {
   "cell_type": "code",
   "execution_count": 9,
   "metadata": {},
   "outputs": [],
   "source": [
    "# The following function calculates the d-prime score from the AUC\n",
    "def d_prime(auc):\n",
    "    standard_normal = stats.norm()\n",
    "    d_prime = standard_normal.ppf(auc) * np.sqrt(2.0)\n",
    "    return d_prime\n",
    "\n",
    "\n",
    "def evaluate_model(mod):\n",
    "    train_loss, train_acc, train_f1 = mod.evaluate(train_ds)\n",
    "    valid_loss, valid_acc, valid_f1 = mod.evaluate(val_ds)\n",
    "    test_loss, test_acc, test_f1 = mod.evaluate(test_ds)\n",
    "\n",
    "    print(f'train_loss {train_loss:.4f}, train_acc {train_acc:.4f}, train_f1 {train_f1:.4f}')\n",
    "    print(f'valid_loss {valid_loss:.4f}, valid_acc {valid_acc:.4f}, valid_f1 {valid_f1:.4f}')\n",
    "    print(f'test_loss {test_loss:.4f}, test_acc {test_acc:.4f}, test_f1 {test_f1:.4f}')\n",
    "    # print(\"train d-prime: {0:.3f}, validation d-prime: {1:.3f}\".format(\n",
    "    #     d_prime(train_auc), d_prime(valid_auc)\n",
    "    # ))"
   ]
  },
  {
   "cell_type": "code",
   "execution_count": 10,
   "metadata": {},
   "outputs": [],
   "source": [
    "def show_performance_plot(history):\n",
    "    fig, axs = plt.subplots(nrows=1, ncols=2, figsize=(14, 5))\n",
    "\n",
    "    axs[0].plot(range(len(history.history[\"accuracy\"])), history.history[\"accuracy\"], label=\"Training\")\n",
    "    axs[0].plot(range(len(history.history[\"val_accuracy\"])), history.history[\"val_accuracy\"], label=\"Validation\")\n",
    "    axs[0].set_xlabel(\"Epochs\")\n",
    "    axs[0].set_title(\"Training & Validation Accuracy\")\n",
    "    axs[0].legend()\n",
    "    axs[0].grid(True)\n",
    "\n",
    "    axs[1].plot(range(len(history.history[\"loss\"])), history.history[\"loss\"], label=\"Training\")\n",
    "    axs[1].plot(range(len(history.history[\"val_loss\"])), history.history[\"val_loss\"], label=\"Validation\")\n",
    "    axs[1].set_xlabel(\"Epochs\")\n",
    "    axs[1].set_title(\"Training & Validation Loss\")\n",
    "    axs[1].legend()\n",
    "    axs[1].grid(True)\n",
    "\n",
    "    plt.show()"
   ]
  },
  {
   "attachments": {},
   "cell_type": "markdown",
   "metadata": {},
   "source": [
    "### Build and train model"
   ]
  },
  {
   "cell_type": "code",
   "execution_count": 18,
   "metadata": {},
   "outputs": [
    {
     "name": "stdout",
     "output_type": "stream",
     "text": [
      "Model: \"accent_recognition\"\n",
      "_________________________________________________________________\n",
      " Layer (type)                Output Shape              Param #   \n",
      "=================================================================\n",
      " embedding (InputLayer)      [(None, 1024)]            0         \n",
      "                                                                 \n",
      " spacing_dummy_layer_5 (Spac  (None, 1024)             0         \n",
      " ingDummyLayer)                                                  \n",
      "                                                                 \n",
      " dense_1 (Dense)             (None, 256)               262400    \n",
      "                                                                 \n",
      " dropout_1 (Dropout)         (None, 256)               0         \n",
      "                                                                 \n",
      " spacing_dummy_layer_6 (Spac  (None, 256)              0         \n",
      " ingDummyLayer)                                                  \n",
      "                                                                 \n",
      " dense_2 (Dense)             (None, 384)               98688     \n",
      "                                                                 \n",
      " dropout_2 (Dropout)         (None, 384)               0         \n",
      "                                                                 \n",
      " spacing_dummy_layer_7 (Spac  (None, 384)              0         \n",
      " ingDummyLayer)                                                  \n",
      "                                                                 \n",
      " dense_3 (Dense)             (None, 192)               73920     \n",
      "                                                                 \n",
      " dropout_3 (Dropout)         (None, 192)               0         \n",
      "                                                                 \n",
      " spacing_dummy_layer_8 (Spac  (None, 192)              0         \n",
      " ingDummyLayer)                                                  \n",
      "                                                                 \n",
      " dense_4 (Dense)             (None, 384)               74112     \n",
      "                                                                 \n",
      " dropout_4 (Dropout)         (None, 384)               0         \n",
      "                                                                 \n",
      " spacing_dummy_layer_9 (Spac  (None, 384)              0         \n",
      " ingDummyLayer)                                                  \n",
      "                                                                 \n",
      " ouput (Dense)               (None, 53)                20405     \n",
      "                                                                 \n",
      "=================================================================\n",
      "Total params: 529,525\n",
      "Trainable params: 529,525\n",
      "Non-trainable params: 0\n",
      "_________________________________________________________________\n"
     ]
    }
   ],
   "source": [
    "model = build_and_compile_model(.8, .8, .8, .8, 1.9644e-5)\n",
    "model.summary()"
   ]
  },
  {
   "cell_type": "code",
   "execution_count": 19,
   "metadata": {},
   "outputs": [
    {
     "name": "stdout",
     "output_type": "stream",
     "text": [
      "Epoch 1/50\n",
      "8930/8930 - 161s - loss: 216.1452 - accuracy: 0.0600 - get_f1: 0.0068 - val_loss: 3.9617 - val_accuracy: 0.2226 - val_get_f1: 0.0000e+00 - 161s/epoch - 18ms/step\n",
      "Epoch 2/50\n",
      "8930/8930 - 147s - loss: 215.2134 - accuracy: 0.2010 - get_f1: 0.1238 - val_loss: 3.9613 - val_accuracy: 0.2228 - val_get_f1: 0.0000e+00 - 147s/epoch - 16ms/step\n",
      "Epoch 3/50\n",
      "8930/8930 - 95s - loss: 210.3774 - accuracy: 0.2053 - get_f1: 0.0701 - val_loss: 3.9584 - val_accuracy: 0.2228 - val_get_f1: 0.0000e+00 - 95s/epoch - 11ms/step\n",
      "Epoch 4/50\n",
      "8930/8930 - 91s - loss: 207.1306 - accuracy: 0.2112 - get_f1: 0.0022 - val_loss: 3.9578 - val_accuracy: 0.2228 - val_get_f1: 0.0000e+00 - 91s/epoch - 10ms/step\n",
      "Epoch 5/50\n",
      "8930/8930 - 85s - loss: 206.7547 - accuracy: 0.2197 - get_f1: 0.0060 - val_loss: 3.9586 - val_accuracy: 0.2228 - val_get_f1: 0.0000e+00 - 85s/epoch - 9ms/step\n",
      "Epoch 6/50\n",
      "8930/8930 - 83s - loss: 206.0410 - accuracy: 0.2248 - get_f1: 0.0081 - val_loss: 3.9594 - val_accuracy: 0.2228 - val_get_f1: 0.0000e+00 - 83s/epoch - 9ms/step\n"
     ]
    }
   ],
   "source": [
    "early_stopping_cb = keras.callbacks.EarlyStopping(\n",
    "    monitor=\"val_accuracy\", patience=3, restore_best_weights=True\n",
    ")\n",
    "\n",
    "model_checkpoint_cb = keras.callbacks.ModelCheckpoint(\n",
    "    MODEL_NAME + \".h5\", monitor=\"val_accuracy\", save_best_only=True\n",
    ")\n",
    "\n",
    "tensorboard_cb = keras.callbacks.TensorBoard(\n",
    "    os.path.join(os.curdir, \"logs\", model.name)\n",
    ")\n",
    "\n",
    "callbacks = [early_stopping_cb, model_checkpoint_cb, tensorboard_cb]\n",
    "\n",
    "history = model.fit(\n",
    "    train_ds,\n",
    "    epochs=EPOCHS,\n",
    "    validation_data=val_ds,\n",
    "    class_weight=class_weight,\n",
    "    callbacks=callbacks,\n",
    "    verbose=2,\n",
    ")"
   ]
  },
  {
   "cell_type": "code",
   "execution_count": 20,
   "metadata": {},
   "outputs": [
    {
     "name": "stdout",
     "output_type": "stream",
     "text": [
      "8930/8930 [==============================] - 34s 4ms/step - loss: 3.9587 - accuracy: 0.2077 - get_f1: 0.0000e+00\n",
      "1006/1006 [==============================] - 4s 4ms/step - loss: 3.9584 - accuracy: 0.2228 - get_f1: 0.0000e+00\n",
      "1068/1068 [==============================] - 5s 4ms/step - loss: 3.9583 - accuracy: 0.2222 - get_f1: 0.0000e+00\n",
      "train_loss 3.9587, train_acc 0.2077, train_f1 0.0000\n",
      "valid_loss 3.9584, valid_acc 0.2228, valid_f1 0.0000\n",
      "test_loss 3.9583, test_acc 0.2222, test_f1 0.0000\n"
     ]
    }
   ],
   "source": [
    "evaluate_model(model)"
   ]
  },
  {
   "cell_type": "code",
   "execution_count": 21,
   "metadata": {},
   "outputs": [
    {
     "data": {
      "image/png": "[encoded data removed]",
      "text/plain": [
       "<Figure size 1400x500 with 2 Axes>"
      ]
     },
     "metadata": {},
     "output_type": "display_data"
    }
   ],
   "source": [
    "show_performance_plot(history)"
   ]
  },
  {
   "attachments": {},
   "cell_type": "markdown",
   "metadata": {},
   "source": [
    "### Visualize network architecture"
   ]
  },
  {
   "cell_type": "code",
   "execution_count": 142,
   "metadata": {},
   "outputs": [],
   "source": [
    "def show_network_graph(filename):\n",
    "    # font = ImageFont.truetype(\"/Users/georgioschristopoulos/PycharmProjects/CNNAudio/data/arial.ttf\", 32)  # using comic sans is strictly prohibited!\n",
    "    # visualkeras.layered_view(model,scale_xy=75,font=font, scale_z=1, max_z=1000, legend=True).show()  # display using your system viewer\n",
    "    # visualkeras.layered_view(model,scale_xy=75,font=font, scale_z=1, max_z=1000, legend=True, to_file='output.png') # write to disk\n",
    "    # visualkeras.layered_view(model, to_file='output.png').show()\n",
    "\n",
    "    visualkeras.layered_view(model,scale_xy=75, scale_z=1, max_z=1000, legend=True).show()  # display using your system viewer\n",
    "    visualkeras.layered_view(model,scale_xy=75, scale_z=1, max_z=1000, legend=True, to_file=filename) # write to disk\n",
    "    visualkeras.layered_view(model, to_file=filename).show()"
   ]
  },
  {
   "cell_type": "code",
   "execution_count": 143,
   "metadata": {},
   "outputs": [],
   "source": [
    "show_network_graph('network-graph-14.png')"
   ]
  },
  {
   "attachments": {},
   "cell_type": "markdown",
   "metadata": {},
   "source": [
    "### Testing with language groups"
   ]
  },
  {
   "cell_type": "code",
   "execution_count": 48,
   "metadata": {},
   "outputs": [
    {
     "name": "stdout",
     "output_type": "stream",
     "text": [
      "Success loading dataset! There are 14 classes.\n"
     ]
    }
   ],
   "source": [
    "df_train = pd.read_csv(os.getcwd() + \"/data/groups10-aug-train.csv\", delimiter= ';')\n",
    "df_val = pd.read_csv(os.getcwd() + \"/data/groups10-aug-val.csv\", delimiter=';')\n",
    "df_test = pd.read_csv(os.getcwd() + \"/data/groups10-aug-test.csv\", delimiter=';')\n",
    "\n",
    "# Rewrite file_name to contain file paths\n",
    "df_train['file_name'] = df_train.apply(\n",
    "    lambda row: os.path.join(os.getcwd(), 'data/augmented', row['file_name'] + '.wav'), \n",
    "    axis=1\n",
    ")\n",
    "df_val['file_name'] = df_val.apply(\n",
    "    lambda row: os.path.join(os.getcwd(), 'data/augmented', row['file_name'] + '.wav'), \n",
    "    axis=1\n",
    ")\n",
    "df_test['file_name'] = df_test.apply(\n",
    "    lambda row: os.path.join(os.getcwd(), 'data/augmented', row['file_name'] + '.wav'), \n",
    "    axis=1\n",
    ")\n",
    "\n",
    "class_names = df_train['primary_lang_group_id'].unique()\n",
    "# lang_idxs = range(len(class_names))\n",
    "# class_dict = dict(zip(class_names, lang_idxs))\n",
    "print(f\"Success loading dataset! There are {len(class_names)} classes.\")  # should be 53 classes\n"
   ]
  },
  {
   "cell_type": "code",
   "execution_count": 49,
   "metadata": {},
   "outputs": [
    {
     "name": "stdout",
     "output_type": "stream",
     "text": [
      "\n",
      "Splitting success!\n",
      "X_train: 10375, y_train: 10375\n",
      "X_val: 1175, y_val: 1175\n",
      "X_test: 1175, y_test: 1175\n",
      "\n",
      "WARNING:tensorflow:Using a while_loop for converting IO>AudioResample cause there is no registered converter for this op.\n",
      "WARNING:tensorflow:Using a while_loop for converting IO>AudioResample cause there is no registered converter for this op.\n",
      "WARNING:tensorflow:Using a while_loop for converting IO>AudioResample cause there is no registered converter for this op.\n",
      "Conversion to dataset success!\n"
     ]
    }
   ],
   "source": [
    "X_train = df_train.iloc[:, :-1]\n",
    "X_val = df_val.iloc[:, :-1]\n",
    "X_test = df_test.iloc[:, :-1]\n",
    "y_train = df_train['primary_lang_group_id']\n",
    "y_val = df_val['primary_lang_group_id']\n",
    "y_test = df_test['primary_lang_group_id']\n",
    "\n",
    "print(f'''\n",
    "Splitting success!\n",
    "X_train: {len(X_train)}, y_train: {len(y_train)}\n",
    "X_val: {len(X_val)}, y_val: {len(y_val)}\n",
    "X_test: {len(X_test)}, y_test: {len(y_test)}\n",
    "''')\n",
    "\n",
    "train_ds = dataframe_to_dataset(X_train['file_name'], y_train)\n",
    "val_ds = dataframe_to_dataset(X_val['file_name'], y_val)\n",
    "test_ds = dataframe_to_dataset(X_test['file_name'], y_test)\n",
    "\n",
    "print('Conversion to dataset success!')"
   ]
  },
  {
   "cell_type": "code",
   "execution_count": 50,
   "metadata": {},
   "outputs": [
    {
     "name": "stdout",
     "output_type": "stream",
     "text": [
      "{0: 8.538321058619244, 1: 54.871957671957674, 2: 55.73519640414305, 3: 101.06201275691, 4: 1.5880140428244898, 5: 52.77516654330126, 6: 24.685969012377736, 7: 94.26441910428028, 8: 180.96256345177665, 9: 222.20257109466303, 10: 230.74190938511327, 11: 11.452774877519879, 12: 63.35599244696213, 13: 51.0785349691054}\n"
     ]
    }
   ],
   "source": [
    "class_counts = tf.zeros(shape=(len(class_names),), dtype=tf.int32)\n",
    "\n",
    "for x, y in iter(train_ds):\n",
    "    class_counts = class_counts + tf.math.bincount(\n",
    "        tf.cast(tf.math.argmax(y, axis=1), tf.int32), minlength=len(class_names)\n",
    "    )\n",
    "\n",
    "class_weight = {\n",
    "    i: tf.math.reduce_sum(class_counts).numpy() / class_counts[i].numpy()\n",
    "    for i in range(len(class_counts))\n",
    "}\n",
    "\n",
    "print(class_weight)"
   ]
  },
  {
   "cell_type": "code",
   "execution_count": 51,
   "metadata": {},
   "outputs": [
    {
     "name": "stdout",
     "output_type": "stream",
     "text": [
      "Model: \"accent_recognition\"\n",
      "_________________________________________________________________\n",
      " Layer (type)                Output Shape              Param #   \n",
      "=================================================================\n",
      " embedding (InputLayer)      [(None, 1024)]            0         \n",
      "                                                                 \n",
      " spacing_dummy_layer_15 (Spa  (None, 1024)             0         \n",
      " cingDummyLayer)                                                 \n",
      "                                                                 \n",
      " dense_1 (Dense)             (None, 256)               262400    \n",
      "                                                                 \n",
      " dropout_1 (Dropout)         (None, 256)               0         \n",
      "                                                                 \n",
      " spacing_dummy_layer_16 (Spa  (None, 256)              0         \n",
      " cingDummyLayer)                                                 \n",
      "                                                                 \n",
      " dense_2 (Dense)             (None, 384)               98688     \n",
      "                                                                 \n",
      " dropout_2 (Dropout)         (None, 384)               0         \n",
      "                                                                 \n",
      " spacing_dummy_layer_17 (Spa  (None, 384)              0         \n",
      " cingDummyLayer)                                                 \n",
      "                                                                 \n",
      " dense_3 (Dense)             (None, 192)               73920     \n",
      "                                                                 \n",
      " dropout_3 (Dropout)         (None, 192)               0         \n",
      "                                                                 \n",
      " spacing_dummy_layer_18 (Spa  (None, 192)              0         \n",
      " cingDummyLayer)                                                 \n",
      "                                                                 \n",
      " dense_4 (Dense)             (None, 384)               74112     \n",
      "                                                                 \n",
      " dropout_4 (Dropout)         (None, 384)               0         \n",
      "                                                                 \n",
      " spacing_dummy_layer_19 (Spa  (None, 384)              0         \n",
      " cingDummyLayer)                                                 \n",
      "                                                                 \n",
      " ouput (Dense)               (None, 14)                5390      \n",
      "                                                                 \n",
      "=================================================================\n",
      "Total params: 514,510\n",
      "Trainable params: 514,510\n",
      "Non-trainable params: 0\n",
      "_________________________________________________________________\n"
     ]
    }
   ],
   "source": [
    "model = build_and_compile_model(.8, .8, .8, .8, 1.9644e-5)\n",
    "model.summary()"
   ]
  },
  {
   "cell_type": "code",
   "execution_count": 52,
   "metadata": {},
   "outputs": [
    {
     "name": "stdout",
     "output_type": "stream",
     "text": [
      "Epoch 1/50\n",
      "8913/8913 - 330s - loss: 37.8760 - accuracy: 0.5360 - get_f1: 0.1614 - val_loss: 2.5207 - val_accuracy: 0.6305 - val_get_f1: 0.0000e+00 - 330s/epoch - 37ms/step\n",
      "Epoch 2/50\n",
      "8913/8913 - 86s - loss: 37.5342 - accuracy: 0.5654 - get_f1: 0.0112 - val_loss: 2.5037 - val_accuracy: 0.6305 - val_get_f1: 0.0000e+00 - 86s/epoch - 10ms/step\n",
      "Epoch 3/50\n",
      "8913/8913 - 97s - loss: 37.5697 - accuracy: 0.5806 - get_f1: 0.0339 - val_loss: 2.4793 - val_accuracy: 0.6305 - val_get_f1: 0.0000e+00 - 97s/epoch - 11ms/step\n",
      "Epoch 4/50\n",
      "8913/8913 - 89s - loss: 37.4443 - accuracy: 0.5751 - get_f1: 0.0078 - val_loss: 2.4571 - val_accuracy: 0.6305 - val_get_f1: 0.0000e+00 - 89s/epoch - 10ms/step\n"
     ]
    }
   ],
   "source": [
    "early_stopping_cb = keras.callbacks.EarlyStopping(\n",
    "    monitor=\"val_accuracy\", patience=3, restore_best_weights=True\n",
    ")\n",
    "\n",
    "model_checkpoint_cb = keras.callbacks.ModelCheckpoint(\n",
    "    MODEL_NAME + \".h5\", monitor=\"val_accuracy\", save_best_only=True\n",
    ")\n",
    "\n",
    "tensorboard_cb = keras.callbacks.TensorBoard(\n",
    "    os.path.join(os.curdir, \"logs\", model.name)\n",
    ")\n",
    "\n",
    "callbacks = [early_stopping_cb, model_checkpoint_cb, tensorboard_cb]\n",
    "\n",
    "history = model.fit(\n",
    "    train_ds,\n",
    "    epochs=EPOCHS,\n",
    "    validation_data=val_ds,\n",
    "    class_weight=class_weight,\n",
    "    callbacks=callbacks,\n",
    "    verbose=2,\n",
    ")"
   ]
  },
  {
   "cell_type": "code",
   "execution_count": 53,
   "metadata": {},
   "outputs": [
    {
     "name": "stdout",
     "output_type": "stream",
     "text": [
      "8913/8913 [==============================] - 37s 4ms/step - loss: 2.5201 - accuracy: 0.6297 - get_f1: 0.0000e+00\n",
      "998/998 [==============================] - 5s 5ms/step - loss: 2.5207 - accuracy: 0.6305 - get_f1: 0.0000e+00\n",
      "1087/1087 [==============================] - 274s 249ms/step - loss: 2.5170 - accuracy: 0.6551 - get_f1: 0.0000e+00\n",
      "train_loss 2.5201, train_acc 0.6297, train_f1 0.0000\n",
      "valid_loss 2.5207, valid_acc 0.6305, valid_f1 0.0000\n",
      "test_loss 2.5170, test_acc 0.6551, test_f1 0.0000\n"
     ]
    }
   ],
   "source": [
    "evaluate_model(model)"
   ]
  },
  {
   "cell_type": "code",
   "execution_count": 54,
   "metadata": {},
   "outputs": [
    {
     "data": {
      "image/png": "[encoded data removed]",
      "text/plain": [
       "<Figure size 1400x500 with 2 Axes>"
      ]
     },
     "metadata": {},
     "output_type": "display_data"
    }
   ],
   "source": [
    "show_performance_plot(history)"
   ]
  },
  {
   "attachments": {},
   "cell_type": "markdown",
   "metadata": {},
   "source": [
    "### Testing with IDEA dataset"
   ]
  },
  {
   "cell_type": "code",
   "execution_count": 35,
   "metadata": {},
   "outputs": [
    {
     "name": "stdout",
     "output_type": "stream",
     "text": [
      "Success loading dataset! There are 8 classes.\n"
     ]
    }
   ],
   "source": [
    "idea_test = pd.read_csv(os.getcwd() + \"/data/idea_audio_plus_lg.csv\", delimiter=',')\n",
    "\n",
    "# Rewrite file_name to contain file paths\n",
    "idea_test['file_name'] = idea_test.apply(\n",
    "    lambda row: os.path.join(os.getcwd(), 'data/IDEA_audio_wav', row['file_name'] + '.wav'), \n",
    "    axis=1\n",
    ")\n",
    "\n",
    "idea_class_names = idea_test['class_labels'].unique()\n",
    "# lang_idxs = range(len(class_names))\n",
    "# class_dict = dict(zip(class_names, lang_idxs))\n",
    "\n",
    "print(f\"Success loading dataset! There are {len(idea_class_names)} classes.\")  # 53 classes in the downsampled dataset"
   ]
  },
  {
   "cell_type": "code",
   "execution_count": 36,
   "metadata": {},
   "outputs": [
    {
     "name": "stdout",
     "output_type": "stream",
     "text": [
      "\n",
      "Splitting success!\n",
      "X_test: 93, y_test: 93\n",
      "\n",
      "WARNING:tensorflow:Using a while_loop for converting IO>AudioResample cause there is no registered converter for this op.\n",
      "Conversion to dataset success!\n"
     ]
    }
   ],
   "source": [
    "X_test = idea_test.iloc[:, :-1]\n",
    "y_test = idea_test['class_labels']\n",
    "\n",
    "print(f'''\n",
    "Splitting success!\n",
    "X_test: {len(X_test)}, y_test: {len(y_test)}\n",
    "''')\n",
    "\n",
    "test_idea_ds = dataframe_to_dataset(X_test['file_name'], y_test)\n",
    "\n",
    "print('Conversion to dataset success!')"
   ]
  },
  {
   "cell_type": "code",
   "execution_count": 37,
   "metadata": {},
   "outputs": [
    {
     "name": "stdout",
     "output_type": "stream",
     "text": [
      "853/853 [==============================] - 233s 257ms/step - loss: 1.1135 - accuracy: 0.0000e+00 - get_f1: 0.0000e+00\n",
      "test_loss 1.1135, test_acc 0.0000, test_f1 0.0000\n"
     ]
    }
   ],
   "source": [
    "test_loss, test_acc, test_f1 = model.evaluate(test_idea_ds)\n",
    "\n",
    "print(f'test_loss {test_loss:.4f}, test_acc {test_acc:.4f}, test_f1 {test_f1:.4f}')"
   ]
  },
  {
   "attachments": {},
   "cell_type": "markdown",
   "metadata": {},
   "source": [
    "### Results\n",
    "\n",
    "**Graph 1**\n",
    "- All middle layers have 0.4 dropout. \n",
    "- Adam optimizer, learning rate 1.9644e-5. \n",
    "- Training time 58m. \n",
    "\n",
    "![alt text](results/graph1.png \"Graph1\")\n",
    "\n",
    "**Graph 2**\n",
    "- All middle layers have 0.4 dropout. \n",
    "- Adadelta optimizer, learning rate 1.9644e-5. \n",
    "- Training time 100m. \n",
    "\n",
    "![](results/graph2.png \"Graph2\")\n",
    "\n",
    "**Graph 3**\n",
    "- 0.3 dropout\n",
    "- Adadelta 1.9644e-5\n",
    "- Training 97m\n",
    "\n",
    "![](results/graph3.png \"Graph 3\")\n",
    "\n",
    "**Graph 4 and 16**\n",
    "- 0.8 dropout\n",
    "- Adam 1.9644e-5\n",
    "- Training 23m\n",
    "\n",
    "![](results/graph4.png \"Graph 4\")\n",
    "![](results/graph16.png \"Graph 16\")\n",
    "\n",
    "**Graph 10**\n",
    "- 0.8 dropout\n",
    "- Adadelta 1.9644e-5\n",
    "- Training 97m\n",
    "\n",
    "![](results/graph10.png \"Graph 10\")\n",
    "\n",
    "**Graph 11**\n",
    "- 0.8 dropout\n",
    "- Adadelta 0.001\n",
    "- Training 10m\n",
    "\n",
    "![](results/graph11.png \"Graph 11\")\n",
    "\n",
    "**Graph 14**\n",
    "- 0.8 dropout\n",
    "- Adadelta 0.01\n",
    "- Training 8m\n",
    "\n",
    "![](results/graph14.png \"Graph 14\")\n",
    "\n",
    "**Graph 12**\n",
    "- Dropout [0.3, 0.3, 0.25, 0.25]\n",
    "- Adadelta 0.001\n",
    "- Training 7m\n",
    "\n",
    "![](results/graph12.png \"Graph 12\")\n",
    "\n",
    "**Graph 13**\n",
    "- Dropout [0.25, 0.25, 0.15, 0.15]\n",
    "- Adadelta 0.001\n",
    "- Training 8m\n",
    "\n",
    "![](results/graph13.png \"Graph 13\")\n",
    "\n",
    "**Graph 5**\n",
    "- Dropout [.8, .8, .5, .5]\n",
    "- Adam 1.9644e-5\n",
    "- Training 41m\n",
    "\n",
    "![](results/graph5.png \"Graph 5\")\n",
    "\n",
    "**Graph 6**\n",
    "- dropout [.5 .5 .8 .8]\n",
    "- Adam 1.9644e-5\n",
    "- Training 25m\n",
    "\n",
    "![](results/graph6.png \"Graph 6\")\n",
    "\n",
    "**Graph 7**\n",
    "- Dropout [.5, .5, .8, .8]\n",
    "- Adam 1.9644e-5\n",
    "- No class weights\n",
    "- Training 40m\n",
    "\n",
    "![](results/graph7.png \"Graph 7\")\n",
    "\n",
    "**Graph 8**\n",
    "- 0.8 dropout\n",
    "- Adam 1.9644e-5\n",
    "- No class weights\n",
    "- training 29m\n",
    "\n",
    "![](results/graph8.png \"Graph 8\")\n",
    "\n",
    "**Graph 9**\n",
    "- dropout .25\n",
    "- Adadelta .001\n",
    "- training 122m\n",
    "\n",
    "![](results/graph9.png \"Graph 9\")\n",
    "\n",
    "**Graph 15**\n",
    "- dropout .3 .3 .8 .8\n",
    "- Adam 0.01\n",
    "- Training 15m\n",
    "\n",
    "![](results/graph15.png \"Graph 15\")\n"
   ]
  }
 ],
 "metadata": {
  "kernelspec": {
   "display_name": "Python 3",
   "language": "python",
   "name": "python3"
  },
  "language_info": {
   "codemirror_mode": {
    "name": "ipython",
    "version": 3
   },
   "file_extension": ".py",
   "mimetype": "text/x-python",
   "name": "python",
   "nbconvert_exporter": "python",
   "pygments_lexer": "ipython3",
   "version": "3.10.7"
  },
  "orig_nbformat": 4,
  "vscode": {
   "interpreter": {
    "hash": "aee8b7b246df8f9039afb4144a1f6fd8d2ca17a180786b69acc140d282b71a49"
   }
  }
 },
 "nbformat": 4,
 "nbformat_minor": 2
}
