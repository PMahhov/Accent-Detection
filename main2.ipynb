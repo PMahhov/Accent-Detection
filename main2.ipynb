{
 "cells": [
  {
   "attachments": {},
   "cell_type": "markdown",
   "metadata": {},
   "source": [
    "Accent-recognizing model, based on example from https://www.tensorflow.org/tutorials/audio/simple_audio and https://keras.io/examples/audio/speaker_recognition_using_cnn/\n",
    "\n",
    "Not included:\n",
    "- Hyperparams tuning\n",
    "- Underlying Yamnet model"
   ]
  },
  {
   "cell_type": "code",
   "execution_count": 1,
   "metadata": {},
   "outputs": [
    {
     "name": "stdout",
     "output_type": "stream",
     "text": [
      "Note: you may need to restart the kernel to use updated packages.\n",
      "Note: you may need to restart the kernel to use updated packages.\n"
     ]
    }
   ],
   "source": [
    "%pip install -U -q tensorflow tensorflow_datasets\n",
    "#apt install --allow-change-held-packages libcudnn8=8.1.0.77-1+cuda11.2\n",
    "%pip install -U -q keras-tuner"
   ]
  },
  {
   "cell_type": "code",
   "execution_count": 1,
   "metadata": {},
   "outputs": [
    {
     "name": "stderr",
     "output_type": "stream",
     "text": [
      "/Library/Frameworks/Python.framework/Versions/3.10/lib/python3.10/site-packages/pydub/utils.py:170: RuntimeWarning: Couldn't find ffmpeg or avconv - defaulting to ffmpeg, but may not work\n",
      "  warn(\"Couldn't find ffmpeg or avconv - defaulting to ffmpeg, but may not work\", RuntimeWarning)\n",
      "2023-01-16 23:35:59.818934: I tensorflow/core/platform/cpu_feature_guard.cc:193] This TensorFlow binary is optimized with oneAPI Deep Neural Network Library (oneDNN) to use the following CPU instructions in performance-critical operations:  AVX2 FMA\n",
      "To enable them in other operations, rebuild TensorFlow with the appropriate compiler flags.\n"
     ]
    }
   ],
   "source": [
    "import pandas as pd\n",
    "pd.options.mode.chained_assignment = None  # default='warn'\n",
    "import numpy as np\n",
    "import pathlib\n",
    "import os\n",
    "from os.path import isfile, join, splitext\n",
    "import librosa\n",
    "import soundfile as sf\n",
    "from pydub import AudioSegment\n",
    "from sklearn.model_selection import train_test_split\n",
    "\n",
    "import tensorflow as tf\n",
    "from tensorflow import keras\n",
    "import tensorflow_io as tfio\n",
    "import tensorflow_hub as tfhub\n",
    "from keras.layers import Conv1D, MaxPooling1D, Flatten, Dense\n",
    "from keras.models import Sequential\n",
    "import keras_tuner as kt\n",
    "\n",
    "import seaborn as sns\n",
    "import matplotlib.pyplot as plt\n",
    "from IPython.display import Audio\n",
    "\n",
    "SAMPLING_RATE = 16000\n",
    "EPOCHS = 50\n",
    "BATCH_SIZE = 128\n",
    "SHUFFLE_SEED = 43\n",
    "\n",
    "# Set the seed value for experiment reproducibility.\n",
    "seed = 42\n",
    "tf.random.set_seed(seed)\n",
    "np.random.seed(seed)"
   ]
  },
  {
   "attachments": {},
   "cell_type": "markdown",
   "metadata": {},
   "source": [
    "Check how many classes are there."
   ]
  },
  {
   "cell_type": "code",
   "execution_count": 2,
   "metadata": {},
   "outputs": [
    {
     "name": "stdout",
     "output_type": "stream",
     "text": [
      "There are 228 classes.\n",
      "There are 228 classes.\n"
     ]
    }
   ],
   "source": [
    "df = pd.read_csv(os.getcwd() + \"/data/audio.csv\", on_bad_lines = 'skip' , delimiter= ';')\n",
    "# print(len(df['native_langs'].unique()))\n",
    "# for lang in df['native_langs'].unique():\n",
    "#     print(f'\"{lang}\",')\n",
    "class_names = df['native_langs'].unique()\n",
    "lang_idxs = range(len(class_names))\n",
    "class_dict = dict(zip(class_names, lang_idxs))\n",
    "\n",
    "print(f\"There are {len(class_names)} classes.\")\n",
    "print(f\"There are {len(class_dict)} classes.\")"
   ]
  },
  {
   "attachments": {},
   "cell_type": "markdown",
   "metadata": {},
   "source": [
    "### Prepare dataset"
   ]
  },
  {
   "cell_type": "code",
   "execution_count": 3,
   "metadata": {},
   "outputs": [],
   "source": [
    "def path_to_audio(path):\n",
    "    \"\"\"Reads and decodes an audio file.\"\"\"\n",
    "    audio = tf.io.read_file(path)\n",
    "    audio, _ = tf.audio.decode_wav(audio, 1, SAMPLING_RATE)\n",
    "    return audio\n",
    "\n",
    "\n",
    "def dataframe_to_dataset(dataframe):\n",
    "    \"\"\"Constructs a dataset of audios and labels.\"\"\"\n",
    "    \n",
    "    # print(dataframe.info())\n",
    "    # Rewrite file_name to contain file paths\n",
    "    dataframe['file_name'] = dataframe.apply(\n",
    "        lambda row: os.path.join(os.getcwd(), 'data/audio_wav', row[\"file_name\"] + \".wav\"), \n",
    "        axis=1\n",
    "    )\n",
    "    # Convert the labels into numbers\n",
    "    dataframe['native_langs'] = dataframe.apply(\n",
    "        lambda row: class_dict[row['native_langs']],\n",
    "        axis=1\n",
    "    )\n",
    "\n",
    "    path_ds = tf.data.Dataset.from_tensor_slices(dataframe['file_name'])\n",
    "    audio_ds = path_ds.map(lambda x: path_to_audio(x))\n",
    "    label_ds = tf.data.Dataset.from_tensor_slices(dataframe['native_langs'])\n",
    "    \n",
    "    return tf.data.Dataset.zip((audio_ds, label_ds))    \n",
    "\n",
    "    # print(len(path_ds), len(audio_ds), len(label_ds))\n",
    "    # dataframe = df[(df[\"native_langs\"] == \"amharic\") | (df[\"native_langs\"] == \"indonesian\")]\n",
    "    # print(dataframe.shape)\n",
    "\n",
    "\n",
    "\n",
    "def audio_to_fft(audio):\n",
    "    # Since tf.signal.fft applies FFT on the innermost dimension,\n",
    "    # we need to squeeze the dimensions and then expand them again\n",
    "    # after FFT\n",
    "    audio = tf.squeeze(audio, axis=-1)\n",
    "    fft = tf.signal.fft(\n",
    "        tf.cast(tf.complex(real=audio, imag=tf.zeros_like(audio)), tf.complex64)\n",
    "    )\n",
    "    fft = tf.expand_dims(fft, axis=-1)\n",
    "\n",
    "    # Return the absolute value of the first half of the FFT\n",
    "    # which represents the positive frequencies\n",
    "    return tf.math.abs(fft[:, : (audio.shape[1] // 2), :])"
   ]
  },
  {
   "attachments": {},
   "cell_type": "markdown",
   "metadata": {},
   "source": [
    "Read the list of audio file paths and labels from the CSV file, as Pandas dataframe.\n",
    "\n",
    "**IMPORTANT!**\n",
    "To avoid noises, we are experimenting with only the most frequent classes in our dataset (English and Spanish). In order to work with the entire classes, we are going to identify infrequent classes and remove them from the dataset."
   ]
  },
  {
   "cell_type": "code",
   "execution_count": 4,
   "metadata": {},
   "outputs": [
    {
     "name": "stdout",
     "output_type": "stream",
     "text": [
      "886\n"
     ]
    }
   ],
   "source": [
    "dataframe = pd.read_csv(os.getcwd() + \"/data/audio.csv\", on_bad_lines = 'skip' , delimiter= ';')\n",
    "dataframe = dataframe[(dataframe['native_langs'] == 'english') | (dataframe['native_langs'] == 'spanish')]\n",
    "print(len(dataframe))"
   ]
  },
  {
   "attachments": {},
   "cell_type": "markdown",
   "metadata": {},
   "source": [
    "Split training & validation set."
   ]
  },
  {
   "cell_type": "code",
   "execution_count": 5,
   "metadata": {},
   "outputs": [
    {
     "name": "stdout",
     "output_type": "stream",
     "text": [
      "WARNING:tensorflow:From /Library/Frameworks/Python.framework/Versions/3.10/lib/python3.10/site-packages/tensorflow/python/autograph/pyct/static_analysis/liveness.py:83: Analyzer.lamba_check (from tensorflow.python.autograph.pyct.static_analysis.liveness) is deprecated and will be removed after 2023-09-23.\n",
      "Instructions for updating:\n",
      "Lambda fuctions will be no more assumed to be used in the statement where they are used, or at least in the same block. https://github.com/tensorflow/tensorflow/issues/56089\n"
     ]
    },
    {
     "name": "stderr",
     "output_type": "stream",
     "text": [
      "2023-01-16 23:41:06.968474: I tensorflow/core/platform/cpu_feature_guard.cc:193] This TensorFlow binary is optimized with oneAPI Deep Neural Network Library (oneDNN) to use the following CPU instructions in performance-critical operations:  AVX2 FMA\n",
      "To enable them in other operations, rebuild TensorFlow with the appropriate compiler flags.\n"
     ]
    }
   ],
   "source": [
    "# Shuffle\n",
    "dataframe = dataframe.sample(frac=1).reset_index(drop=True)\n",
    "# rng = np.random.RandomState(SHUFFLE_SEED)\n",
    "# rng.shuffle(audio_paths)\n",
    "# rng = np.random.RandomState(SHUFFLE_SEED)\n",
    "# rng.shuffle(labels)\n",
    "\n",
    "# Splitting training and validation set\n",
    "split = int(len(dataframe) * 0.8)\n",
    "train_df = dataframe[:split]\n",
    "valid_df = dataframe[split:]\n",
    "\n",
    "train_ds = dataframe_to_dataset(train_df)\n",
    "valid_ds = dataframe_to_dataset(valid_df)\n",
    "\n",
    "train_ds = train_ds.shuffle(buffer_size=BATCH_SIZE * 8, seed=SHUFFLE_SEED).batch(BATCH_SIZE)\n",
    "valid_ds = valid_ds.shuffle(buffer_size=32 * 8, seed=SHUFFLE_SEED).batch(32)\n",
    "\n",
    "# Transform audio wave to the frequency domain using `audio_to_fft`\n",
    "train_ds = train_ds.map(\n",
    "    lambda x, y: (audio_to_fft(x), y), \n",
    "    num_parallel_calls=tf.data.AUTOTUNE,\n",
    ")\n",
    "valid_ds = valid_ds.map(\n",
    "    lambda x, y: (audio_to_fft(x), y), \n",
    "    num_parallel_calls=tf.data.AUTOTUNE,\n",
    ")\n",
    "train_ds = train_ds.prefetch(tf.data.AUTOTUNE)\n",
    "valid_ds = valid_ds.prefetch(tf.data.AUTOTUNE)"
   ]
  },
  {
   "attachments": {},
   "cell_type": "markdown",
   "metadata": {},
   "source": [
    "### Model definition"
   ]
  },
  {
   "cell_type": "code",
   "execution_count": null,
   "metadata": {},
   "outputs": [],
   "source": [
    "def residual_block(x, filters, conv_num=3, activation=\"relu\"):\n",
    "    # Shortcut\n",
    "    s = keras.layers.Conv1D(filters, 1, padding=\"same\")(x)\n",
    "    for i in range(conv_num - 1):\n",
    "        x = keras.layers.Conv1D(filters, 3, padding=\"same\")(x)\n",
    "        x = keras.layers.Activation(activation)(x)\n",
    "    x = keras.layers.Conv1D(filters, 3, padding=\"same\")(x)\n",
    "    x = keras.layers.Add()([x, s])\n",
    "    x = keras.layers.Activation(activation)(x)\n",
    "    return keras.layers.MaxPool1D(pool_size=2, strides=2)(x)\n",
    "\n",
    "\n",
    "def build_model(input_shape, num_classes):\n",
    "    inputs = keras.layers.Input(shape=input_shape, name=\"input\")\n",
    "\n",
    "    x = residual_block(inputs, 16, 2)\n",
    "    x = residual_block(x, 32, 2)\n",
    "    x = residual_block(x, 64, 3)\n",
    "    x = residual_block(x, 128, 3)\n",
    "    x = residual_block(x, 128, 3)\n",
    "\n",
    "    x = keras.layers.AveragePooling1D(pool_size=3, strides=3)(x)\n",
    "    x = keras.layers.Flatten()(x)\n",
    "    x = keras.layers.Dense(256, activation=\"relu\")(x)\n",
    "    x = keras.layers.Dense(128, activation=\"relu\")(x)\n",
    "\n",
    "    outputs = keras.layers.Dense(num_classes, activation=\"softmax\", name=\"output\")(x)\n",
    "\n",
    "    return keras.models.Model(inputs=inputs, outputs=outputs)"
   ]
  },
  {
   "cell_type": "code",
   "execution_count": null,
   "metadata": {},
   "outputs": [],
   "source": [
    "model = build_model((SAMPLING_RATE // 2, 1), len(class_names))\n",
    "model.summary()\n",
    "\n",
    "# Compile the model using Adam's default learning rate\n",
    "model.compile(\n",
    "    optimizer=\"Adam\", \n",
    "    loss=\"sparse_categorical_crossentropy\", \n",
    "    metrics=[\"accuracy\"]\n",
    ")\n",
    "model_save_filename = \"model.h5\"\n",
    "\n",
    "# Add callbacks:\n",
    "# 'EarlyStopping' to stop training when the model is not enhancing anymore\n",
    "# 'ModelCheckPoint' to always keep the model that has the best val_accuracy\n",
    "earlystopping_cb = keras.callbacks.EarlyStopping(patience=10, restore_best_weights=True)\n",
    "mdlcheckpoint_cb = keras.callbacks.ModelCheckpoint(\n",
    "    model_save_filename, monitor=\"val_accuracy\", save_best_only=True\n",
    ")"
   ]
  },
  {
   "attachments": {},
   "cell_type": "markdown",
   "metadata": {},
   "source": [
    "### Model training"
   ]
  },
  {
   "cell_type": "code",
   "execution_count": 105,
   "metadata": {},
   "outputs": [
    {
     "name": "stdout",
     "output_type": "stream",
     "text": [
      "Epoch 1/50\n",
      "6/6 [==============================] - 44s 5s/step - loss: 3.2613 - accuracy: 0.5353 - val_loss: 1.5944 - val_accuracy: 0.6910\n",
      "Epoch 2/50\n",
      "6/6 [==============================] - 29s 4s/step - loss: 1.3340 - accuracy: 0.7458 - val_loss: 0.6525 - val_accuracy: 0.6910\n",
      "Epoch 3/50\n",
      "6/6 [==============================] - 27s 4s/step - loss: 0.6259 - accuracy: 0.6992 - val_loss: 0.5930 - val_accuracy: 0.6910\n",
      "Epoch 4/50\n",
      "6/6 [==============================] - 28s 4s/step - loss: 0.5710 - accuracy: 0.7458 - val_loss: 0.5629 - val_accuracy: 0.6910\n",
      "Epoch 5/50\n",
      "6/6 [==============================] - 30s 4s/step - loss: 0.5407 - accuracy: 0.7458 - val_loss: 0.5585 - val_accuracy: 0.6910\n",
      "Epoch 6/50\n",
      "6/6 [==============================] - 32s 4s/step - loss: 0.5323 - accuracy: 0.7458 - val_loss: 0.5570 - val_accuracy: 0.6910\n",
      "Epoch 7/50\n",
      "6/6 [==============================] - 29s 4s/step - loss: 0.5364 - accuracy: 0.7458 - val_loss: 0.5676 - val_accuracy: 0.6910\n",
      "Epoch 8/50\n",
      "6/6 [==============================] - 30s 4s/step - loss: 0.5367 - accuracy: 0.7458 - val_loss: 0.5647 - val_accuracy: 0.6910\n",
      "Epoch 9/50\n",
      "6/6 [==============================] - 28s 4s/step - loss: 0.5270 - accuracy: 0.7458 - val_loss: 0.5594 - val_accuracy: 0.6910\n",
      "Epoch 10/50\n",
      "6/6 [==============================] - 28s 4s/step - loss: 0.5186 - accuracy: 0.7458 - val_loss: 0.5678 - val_accuracy: 0.6910\n",
      "Epoch 11/50\n",
      "6/6 [==============================] - 29s 4s/step - loss: 0.5273 - accuracy: 0.7458 - val_loss: 0.5571 - val_accuracy: 0.6910\n",
      "Epoch 12/50\n",
      "6/6 [==============================] - 28s 4s/step - loss: 0.5165 - accuracy: 0.7401 - val_loss: 0.5729 - val_accuracy: 0.6910\n",
      "Epoch 13/50\n",
      "6/6 [==============================] - 28s 4s/step - loss: 0.5191 - accuracy: 0.7472 - val_loss: 0.5590 - val_accuracy: 0.6910\n",
      "Epoch 14/50\n",
      "6/6 [==============================] - 29s 4s/step - loss: 0.5061 - accuracy: 0.7472 - val_loss: 0.5711 - val_accuracy: 0.6910\n",
      "Epoch 15/50\n",
      "6/6 [==============================] - 29s 4s/step - loss: 0.4984 - accuracy: 0.7500 - val_loss: 0.5623 - val_accuracy: 0.6910\n",
      "Epoch 16/50\n",
      "6/6 [==============================] - 30s 4s/step - loss: 0.4879 - accuracy: 0.7514 - val_loss: 0.5515 - val_accuracy: 0.7022\n",
      "Epoch 17/50\n",
      "6/6 [==============================] - 31s 4s/step - loss: 0.4770 - accuracy: 0.7528 - val_loss: 0.5958 - val_accuracy: 0.6910\n",
      "Epoch 18/50\n",
      "6/6 [==============================] - 28s 4s/step - loss: 0.4734 - accuracy: 0.7641 - val_loss: 0.5344 - val_accuracy: 0.7247\n",
      "Epoch 19/50\n",
      "6/6 [==============================] - 30s 4s/step - loss: 0.4554 - accuracy: 0.7641 - val_loss: 0.5787 - val_accuracy: 0.6854\n",
      "Epoch 20/50\n",
      "6/6 [==============================] - 28s 4s/step - loss: 0.4481 - accuracy: 0.7641 - val_loss: 0.6146 - val_accuracy: 0.6854\n",
      "Epoch 21/50\n",
      "6/6 [==============================] - 30s 4s/step - loss: 0.4579 - accuracy: 0.7613 - val_loss: 0.5999 - val_accuracy: 0.6854\n",
      "Epoch 22/50\n",
      "6/6 [==============================] - 28s 4s/step - loss: 0.4560 - accuracy: 0.7599 - val_loss: 0.5598 - val_accuracy: 0.7247\n",
      "Epoch 23/50\n",
      "6/6 [==============================] - 29s 4s/step - loss: 0.4172 - accuracy: 0.7768 - val_loss: 0.5789 - val_accuracy: 0.7360\n",
      "Epoch 24/50\n",
      "6/6 [==============================] - 30s 4s/step - loss: 0.3951 - accuracy: 0.8051 - val_loss: 0.6288 - val_accuracy: 0.6742\n",
      "Epoch 25/50\n",
      "6/6 [==============================] - 32s 4s/step - loss: 0.3811 - accuracy: 0.8079 - val_loss: 0.7539 - val_accuracy: 0.6798\n",
      "Epoch 26/50\n",
      "6/6 [==============================] - 30s 4s/step - loss: 0.3932 - accuracy: 0.7853 - val_loss: 0.7353 - val_accuracy: 0.6798\n",
      "Epoch 27/50\n",
      "6/6 [==============================] - 34s 5s/step - loss: 0.3997 - accuracy: 0.8065 - val_loss: 0.7988 - val_accuracy: 0.6798\n",
      "Epoch 28/50\n",
      "6/6 [==============================] - 29s 4s/step - loss: 0.3878 - accuracy: 0.8023 - val_loss: 0.6133 - val_accuracy: 0.6742\n"
     ]
    }
   ],
   "source": [
    "history = model.fit(\n",
    "    train_ds,\n",
    "    epochs=EPOCHS,\n",
    "    validation_data=valid_ds,\n",
    "    callbacks=[earlystopping_cb, mdlcheckpoint_cb],\n",
    ")"
   ]
  },
  {
   "cell_type": "code",
   "execution_count": 106,
   "metadata": {},
   "outputs": [
    {
     "name": "stdout",
     "output_type": "stream",
     "text": [
      "6/6 [==============================] - 3s 319ms/step - loss: 0.5344 - accuracy: 0.7247\n",
      "[0.5344429016113281, 0.7247191071510315]\n"
     ]
    }
   ],
   "source": [
    "print(model.evaluate(valid_ds))"
   ]
  },
  {
   "attachments": {},
   "cell_type": "markdown",
   "metadata": {},
   "source": [
    "### Experiment with data split\n",
    "\n",
    "When previously we had 80-20 training-validation split, now we are experimenting with 90-10 split."
   ]
  },
  {
   "cell_type": "code",
   "execution_count": 7,
   "metadata": {},
   "outputs": [],
   "source": [
    "split = int(len(dataframe) * 0.9)\n",
    "train_df2 = dataframe[:split]\n",
    "valid_df2 = dataframe[split:]\n",
    "\n",
    "train_ds2 = dataframe_to_dataset(train_df2)\n",
    "valid_ds2 = dataframe_to_dataset(valid_df2)\n",
    "\n",
    "train_ds2 = train_ds2.shuffle(buffer_size=BATCH_SIZE * 8, seed=SHUFFLE_SEED).batch(BATCH_SIZE)\n",
    "valid_ds2 = valid_ds2.shuffle(buffer_size=32 * 8, seed=SHUFFLE_SEED).batch(32)\n",
    "\n",
    "# Transform audio wave to the frequency domain using `audio_to_fft`\n",
    "train_ds2 = train_ds2.map(\n",
    "    lambda x, y: (audio_to_fft(x), y), \n",
    "    num_parallel_calls=tf.data.AUTOTUNE,\n",
    ")\n",
    "valid_ds2 = valid_ds2.map(\n",
    "    lambda x, y: (audio_to_fft(x), y), \n",
    "    num_parallel_calls=tf.data.AUTOTUNE,\n",
    ")\n",
    "train_ds2 = train_ds2.prefetch(tf.data.AUTOTUNE)\n",
    "valid_ds2 = valid_ds2.prefetch(tf.data.AUTOTUNE)"
   ]
  },
  {
   "cell_type": "code",
   "execution_count": 8,
   "metadata": {},
   "outputs": [
    {
     "name": "stdout",
     "output_type": "stream",
     "text": [
      "Model: \"model_1\"\n",
      "__________________________________________________________________________________________________\n",
      " Layer (type)                   Output Shape         Param #     Connected to                     \n",
      "==================================================================================================\n",
      " input (InputLayer)             [(None, 8000, 1)]    0           []                               \n",
      "                                                                                                  \n",
      " conv1d_19 (Conv1D)             (None, 8000, 16)     64          ['input[0][0]']                  \n",
      "                                                                                                  \n",
      " activation_13 (Activation)     (None, 8000, 16)     0           ['conv1d_19[0][0]']              \n",
      "                                                                                                  \n",
      " conv1d_20 (Conv1D)             (None, 8000, 16)     784         ['activation_13[0][0]']          \n",
      "                                                                                                  \n",
      " conv1d_18 (Conv1D)             (None, 8000, 16)     32          ['input[0][0]']                  \n",
      "                                                                                                  \n",
      " add_5 (Add)                    (None, 8000, 16)     0           ['conv1d_20[0][0]',              \n",
      "                                                                  'conv1d_18[0][0]']              \n",
      "                                                                                                  \n",
      " activation_14 (Activation)     (None, 8000, 16)     0           ['add_5[0][0]']                  \n",
      "                                                                                                  \n",
      " max_pooling1d_5 (MaxPooling1D)  (None, 4000, 16)    0           ['activation_14[0][0]']          \n",
      "                                                                                                  \n",
      " conv1d_22 (Conv1D)             (None, 4000, 32)     1568        ['max_pooling1d_5[0][0]']        \n",
      "                                                                                                  \n",
      " activation_15 (Activation)     (None, 4000, 32)     0           ['conv1d_22[0][0]']              \n",
      "                                                                                                  \n",
      " conv1d_23 (Conv1D)             (None, 4000, 32)     3104        ['activation_15[0][0]']          \n",
      "                                                                                                  \n",
      " conv1d_21 (Conv1D)             (None, 4000, 32)     544         ['max_pooling1d_5[0][0]']        \n",
      "                                                                                                  \n",
      " add_6 (Add)                    (None, 4000, 32)     0           ['conv1d_23[0][0]',              \n",
      "                                                                  'conv1d_21[0][0]']              \n",
      "                                                                                                  \n",
      " activation_16 (Activation)     (None, 4000, 32)     0           ['add_6[0][0]']                  \n",
      "                                                                                                  \n",
      " max_pooling1d_6 (MaxPooling1D)  (None, 2000, 32)    0           ['activation_16[0][0]']          \n",
      "                                                                                                  \n",
      " conv1d_25 (Conv1D)             (None, 2000, 64)     6208        ['max_pooling1d_6[0][0]']        \n",
      "                                                                                                  \n",
      " activation_17 (Activation)     (None, 2000, 64)     0           ['conv1d_25[0][0]']              \n",
      "                                                                                                  \n",
      " conv1d_26 (Conv1D)             (None, 2000, 64)     12352       ['activation_17[0][0]']          \n",
      "                                                                                                  \n",
      " activation_18 (Activation)     (None, 2000, 64)     0           ['conv1d_26[0][0]']              \n",
      "                                                                                                  \n",
      " conv1d_27 (Conv1D)             (None, 2000, 64)     12352       ['activation_18[0][0]']          \n",
      "                                                                                                  \n",
      " conv1d_24 (Conv1D)             (None, 2000, 64)     2112        ['max_pooling1d_6[0][0]']        \n",
      "                                                                                                  \n",
      " add_7 (Add)                    (None, 2000, 64)     0           ['conv1d_27[0][0]',              \n",
      "                                                                  'conv1d_24[0][0]']              \n",
      "                                                                                                  \n",
      " activation_19 (Activation)     (None, 2000, 64)     0           ['add_7[0][0]']                  \n",
      "                                                                                                  \n",
      " max_pooling1d_7 (MaxPooling1D)  (None, 1000, 64)    0           ['activation_19[0][0]']          \n",
      "                                                                                                  \n",
      " conv1d_29 (Conv1D)             (None, 1000, 128)    24704       ['max_pooling1d_7[0][0]']        \n",
      "                                                                                                  \n",
      " activation_20 (Activation)     (None, 1000, 128)    0           ['conv1d_29[0][0]']              \n",
      "                                                                                                  \n",
      " conv1d_30 (Conv1D)             (None, 1000, 128)    49280       ['activation_20[0][0]']          \n",
      "                                                                                                  \n",
      " activation_21 (Activation)     (None, 1000, 128)    0           ['conv1d_30[0][0]']              \n",
      "                                                                                                  \n",
      " conv1d_31 (Conv1D)             (None, 1000, 128)    49280       ['activation_21[0][0]']          \n",
      "                                                                                                  \n",
      " conv1d_28 (Conv1D)             (None, 1000, 128)    8320        ['max_pooling1d_7[0][0]']        \n",
      "                                                                                                  \n",
      " add_8 (Add)                    (None, 1000, 128)    0           ['conv1d_31[0][0]',              \n",
      "                                                                  'conv1d_28[0][0]']              \n",
      "                                                                                                  \n",
      " activation_22 (Activation)     (None, 1000, 128)    0           ['add_8[0][0]']                  \n",
      "                                                                                                  \n",
      " max_pooling1d_8 (MaxPooling1D)  (None, 500, 128)    0           ['activation_22[0][0]']          \n",
      "                                                                                                  \n",
      " conv1d_33 (Conv1D)             (None, 500, 128)     49280       ['max_pooling1d_8[0][0]']        \n",
      "                                                                                                  \n",
      " activation_23 (Activation)     (None, 500, 128)     0           ['conv1d_33[0][0]']              \n",
      "                                                                                                  \n",
      " conv1d_34 (Conv1D)             (None, 500, 128)     49280       ['activation_23[0][0]']          \n",
      "                                                                                                  \n",
      " activation_24 (Activation)     (None, 500, 128)     0           ['conv1d_34[0][0]']              \n",
      "                                                                                                  \n",
      " conv1d_35 (Conv1D)             (None, 500, 128)     49280       ['activation_24[0][0]']          \n",
      "                                                                                                  \n",
      " conv1d_32 (Conv1D)             (None, 500, 128)     16512       ['max_pooling1d_8[0][0]']        \n",
      "                                                                                                  \n",
      " add_9 (Add)                    (None, 500, 128)     0           ['conv1d_35[0][0]',              \n",
      "                                                                  'conv1d_32[0][0]']              \n",
      "                                                                                                  \n",
      " activation_25 (Activation)     (None, 500, 128)     0           ['add_9[0][0]']                  \n",
      "                                                                                                  \n",
      " max_pooling1d_9 (MaxPooling1D)  (None, 250, 128)    0           ['activation_25[0][0]']          \n",
      "                                                                                                  \n",
      " average_pooling1d_1 (AveragePo  (None, 83, 128)     0           ['max_pooling1d_9[0][0]']        \n",
      " oling1D)                                                                                         \n",
      "                                                                                                  \n",
      " flatten_1 (Flatten)            (None, 10624)        0           ['average_pooling1d_1[0][0]']    \n",
      "                                                                                                  \n",
      " dense_2 (Dense)                (None, 256)          2720000     ['flatten_1[0][0]']              \n",
      "                                                                                                  \n",
      " dense_3 (Dense)                (None, 128)          32896       ['dense_2[0][0]']                \n",
      "                                                                                                  \n",
      " output (Dense)                 (None, 228)          29412       ['dense_3[0][0]']                \n",
      "                                                                                                  \n",
      "==================================================================================================\n",
      "Total params: 3,117,364\n",
      "Trainable params: 3,117,364\n",
      "Non-trainable params: 0\n",
      "__________________________________________________________________________________________________\n"
     ]
    }
   ],
   "source": [
    "model2 = build_model((SAMPLING_RATE // 2, 1), len(class_names))\n",
    "\n",
    "model2.summary()\n",
    "\n",
    "# Compile the model using Adam's default learning rate\n",
    "model2.compile(\n",
    "    optimizer=\"Adam\", \n",
    "    loss=\"sparse_categorical_crossentropy\", \n",
    "    metrics=[\"accuracy\"]\n",
    ")\n",
    "\n",
    "# Add callbacks:\n",
    "# 'EarlyStopping' to stop training when the model is not enhancing anymore\n",
    "# 'ModelCheckPoint' to always keep the model that has the best val_accuracy\n",
    "model_save_filename = \"model2.h5\"\n",
    "\n",
    "earlystopping_cb = keras.callbacks.EarlyStopping(patience=10, restore_best_weights=True)\n",
    "mdlcheckpoint_cb = keras.callbacks.ModelCheckpoint(\n",
    "    model_save_filename, monitor=\"val_accuracy\", save_best_only=True\n",
    ")"
   ]
  },
  {
   "cell_type": "code",
   "execution_count": 13,
   "metadata": {},
   "outputs": [
    {
     "name": "stdout",
     "output_type": "stream",
     "text": [
      "Epoch 1/50\n",
      "7/7 [==============================] - 46s 5s/step - loss: 0.5269 - accuracy: 0.7415 - val_loss: 0.6664 - val_accuracy: 0.6742\n",
      "Epoch 2/50\n",
      "7/7 [==============================] - 33s 4s/step - loss: 0.5498 - accuracy: 0.7415 - val_loss: 0.5792 - val_accuracy: 0.6742\n",
      "Epoch 3/50\n",
      "7/7 [==============================] - 30s 4s/step - loss: 0.5259 - accuracy: 0.7415 - val_loss: 0.5848 - val_accuracy: 0.6742\n",
      "Epoch 4/50\n",
      "7/7 [==============================] - 30s 4s/step - loss: 0.5332 - accuracy: 0.7415 - val_loss: 0.6056 - val_accuracy: 0.6742\n",
      "Epoch 5/50\n",
      "7/7 [==============================] - 31s 4s/step - loss: 0.5260 - accuracy: 0.7390 - val_loss: 0.5981 - val_accuracy: 0.6742\n",
      "Epoch 6/50\n",
      "7/7 [==============================] - 31s 4s/step - loss: 0.5092 - accuracy: 0.7428 - val_loss: 0.6173 - val_accuracy: 0.6742\n",
      "Epoch 7/50\n",
      "7/7 [==============================] - 30s 4s/step - loss: 0.5148 - accuracy: 0.7415 - val_loss: 0.5907 - val_accuracy: 0.6742\n",
      "Epoch 8/50\n",
      "7/7 [==============================] - 31s 4s/step - loss: 0.4953 - accuracy: 0.7491 - val_loss: 0.5807 - val_accuracy: 0.6966\n",
      "Epoch 9/50\n",
      "7/7 [==============================] - 30s 3s/step - loss: 0.4909 - accuracy: 0.7541 - val_loss: 0.5838 - val_accuracy: 0.6966\n",
      "Epoch 10/50\n",
      "7/7 [==============================] - 29s 3s/step - loss: 0.4829 - accuracy: 0.7403 - val_loss: 0.6291 - val_accuracy: 0.6629\n",
      "Epoch 11/50\n",
      "7/7 [==============================] - 32s 4s/step - loss: 0.4924 - accuracy: 0.7503 - val_loss: 0.5743 - val_accuracy: 0.6854\n",
      "Epoch 12/50\n",
      "7/7 [==============================] - 30s 4s/step - loss: 0.4666 - accuracy: 0.7729 - val_loss: 0.6052 - val_accuracy: 0.6180\n",
      "Epoch 13/50\n",
      "7/7 [==============================] - 30s 4s/step - loss: 0.4751 - accuracy: 0.7516 - val_loss: 0.5783 - val_accuracy: 0.7191\n",
      "Epoch 14/50\n",
      "7/7 [==============================] - 30s 3s/step - loss: 0.4563 - accuracy: 0.7616 - val_loss: 0.6210 - val_accuracy: 0.6854\n",
      "Epoch 15/50\n",
      "7/7 [==============================] - 30s 3s/step - loss: 0.4405 - accuracy: 0.7729 - val_loss: 0.6060 - val_accuracy: 0.7191\n",
      "Epoch 16/50\n",
      "7/7 [==============================] - 31s 4s/step - loss: 0.4402 - accuracy: 0.7716 - val_loss: 0.6139 - val_accuracy: 0.6966\n",
      "Epoch 17/50\n",
      "7/7 [==============================] - 30s 3s/step - loss: 0.4328 - accuracy: 0.7704 - val_loss: 0.6333 - val_accuracy: 0.6966\n",
      "Epoch 18/50\n",
      "7/7 [==============================] - 30s 3s/step - loss: 0.4083 - accuracy: 0.7867 - val_loss: 0.7398 - val_accuracy: 0.6404\n",
      "Epoch 19/50\n",
      "7/7 [==============================] - 29s 4s/step - loss: 0.4040 - accuracy: 0.7829 - val_loss: 0.6545 - val_accuracy: 0.6854\n",
      "Epoch 20/50\n",
      "7/7 [==============================] - 30s 4s/step - loss: 0.3708 - accuracy: 0.8168 - val_loss: 0.6978 - val_accuracy: 0.6742\n",
      "Epoch 21/50\n",
      "7/7 [==============================] - 29s 3s/step - loss: 0.3606 - accuracy: 0.8080 - val_loss: 0.7131 - val_accuracy: 0.7079\n"
     ]
    }
   ],
   "source": [
    "history = model2.fit(\n",
    "    train_ds2,\n",
    "    epochs=EPOCHS,\n",
    "    validation_data=valid_ds2,\n",
    "    callbacks=[earlystopping_cb, mdlcheckpoint_cb],\n",
    ")"
   ]
  },
  {
   "cell_type": "code",
   "execution_count": 14,
   "metadata": {},
   "outputs": [
    {
     "name": "stdout",
     "output_type": "stream",
     "text": [
      "3/3 [==============================] - 1s 256ms/step - loss: 0.5743 - accuracy: 0.6854\n",
      "[0.5742688775062561, 0.6853932738304138]\n"
     ]
    }
   ],
   "source": [
    "print(model2.evaluate(valid_ds2))"
   ]
  },
  {
   "attachments": {},
   "cell_type": "markdown",
   "metadata": {},
   "source": [
    "Experiment with 70-30 split."
   ]
  },
  {
   "cell_type": "code",
   "execution_count": 11,
   "metadata": {},
   "outputs": [],
   "source": [
    "split = int(len(dataframe) * 0.9)\n",
    "train_df3 = dataframe[:split]\n",
    "valid_df3 = dataframe[split:]\n",
    "\n",
    "train_ds3 = dataframe_to_dataset(train_df3)\n",
    "valid_ds3 = dataframe_to_dataset(valid_df3)\n",
    "\n",
    "train_ds3 = train_ds3.shuffle(buffer_size=BATCH_SIZE * 8, seed=SHUFFLE_SEED).batch(BATCH_SIZE)\n",
    "valid_ds3 = valid_ds3.shuffle(buffer_size=32 * 8, seed=SHUFFLE_SEED).batch(32)\n",
    "\n",
    "# Transform audio wave to the frequency domain using `audio_to_fft`\n",
    "train_ds3 = train_ds3.map(\n",
    "    lambda x, y: (audio_to_fft(x), y), \n",
    "    num_parallel_calls=tf.data.AUTOTUNE,\n",
    ")\n",
    "valid_ds3 = valid_ds3.map(\n",
    "    lambda x, y: (audio_to_fft(x), y), \n",
    "    num_parallel_calls=tf.data.AUTOTUNE,\n",
    ")\n",
    "train_ds3 = train_ds3.prefetch(tf.data.AUTOTUNE)\n",
    "valid_ds3 = valid_ds3.prefetch(tf.data.AUTOTUNE)"
   ]
  },
  {
   "cell_type": "code",
   "execution_count": 12,
   "metadata": {},
   "outputs": [
    {
     "name": "stdout",
     "output_type": "stream",
     "text": [
      "Model: \"model_2\"\n",
      "__________________________________________________________________________________________________\n",
      " Layer (type)                   Output Shape         Param #     Connected to                     \n",
      "==================================================================================================\n",
      " input (InputLayer)             [(None, 8000, 1)]    0           []                               \n",
      "                                                                                                  \n",
      " conv1d_37 (Conv1D)             (None, 8000, 16)     64          ['input[0][0]']                  \n",
      "                                                                                                  \n",
      " activation_26 (Activation)     (None, 8000, 16)     0           ['conv1d_37[0][0]']              \n",
      "                                                                                                  \n",
      " conv1d_38 (Conv1D)             (None, 8000, 16)     784         ['activation_26[0][0]']          \n",
      "                                                                                                  \n",
      " conv1d_36 (Conv1D)             (None, 8000, 16)     32          ['input[0][0]']                  \n",
      "                                                                                                  \n",
      " add_10 (Add)                   (None, 8000, 16)     0           ['conv1d_38[0][0]',              \n",
      "                                                                  'conv1d_36[0][0]']              \n",
      "                                                                                                  \n",
      " activation_27 (Activation)     (None, 8000, 16)     0           ['add_10[0][0]']                 \n",
      "                                                                                                  \n",
      " max_pooling1d_10 (MaxPooling1D  (None, 4000, 16)    0           ['activation_27[0][0]']          \n",
      " )                                                                                                \n",
      "                                                                                                  \n",
      " conv1d_40 (Conv1D)             (None, 4000, 32)     1568        ['max_pooling1d_10[0][0]']       \n",
      "                                                                                                  \n",
      " activation_28 (Activation)     (None, 4000, 32)     0           ['conv1d_40[0][0]']              \n",
      "                                                                                                  \n",
      " conv1d_41 (Conv1D)             (None, 4000, 32)     3104        ['activation_28[0][0]']          \n",
      "                                                                                                  \n",
      " conv1d_39 (Conv1D)             (None, 4000, 32)     544         ['max_pooling1d_10[0][0]']       \n",
      "                                                                                                  \n",
      " add_11 (Add)                   (None, 4000, 32)     0           ['conv1d_41[0][0]',              \n",
      "                                                                  'conv1d_39[0][0]']              \n",
      "                                                                                                  \n",
      " activation_29 (Activation)     (None, 4000, 32)     0           ['add_11[0][0]']                 \n",
      "                                                                                                  \n",
      " max_pooling1d_11 (MaxPooling1D  (None, 2000, 32)    0           ['activation_29[0][0]']          \n",
      " )                                                                                                \n",
      "                                                                                                  \n",
      " conv1d_43 (Conv1D)             (None, 2000, 64)     6208        ['max_pooling1d_11[0][0]']       \n",
      "                                                                                                  \n",
      " activation_30 (Activation)     (None, 2000, 64)     0           ['conv1d_43[0][0]']              \n",
      "                                                                                                  \n",
      " conv1d_44 (Conv1D)             (None, 2000, 64)     12352       ['activation_30[0][0]']          \n",
      "                                                                                                  \n",
      " activation_31 (Activation)     (None, 2000, 64)     0           ['conv1d_44[0][0]']              \n",
      "                                                                                                  \n",
      " conv1d_45 (Conv1D)             (None, 2000, 64)     12352       ['activation_31[0][0]']          \n",
      "                                                                                                  \n",
      " conv1d_42 (Conv1D)             (None, 2000, 64)     2112        ['max_pooling1d_11[0][0]']       \n",
      "                                                                                                  \n",
      " add_12 (Add)                   (None, 2000, 64)     0           ['conv1d_45[0][0]',              \n",
      "                                                                  'conv1d_42[0][0]']              \n",
      "                                                                                                  \n",
      " activation_32 (Activation)     (None, 2000, 64)     0           ['add_12[0][0]']                 \n",
      "                                                                                                  \n",
      " max_pooling1d_12 (MaxPooling1D  (None, 1000, 64)    0           ['activation_32[0][0]']          \n",
      " )                                                                                                \n",
      "                                                                                                  \n",
      " conv1d_47 (Conv1D)             (None, 1000, 128)    24704       ['max_pooling1d_12[0][0]']       \n",
      "                                                                                                  \n",
      " activation_33 (Activation)     (None, 1000, 128)    0           ['conv1d_47[0][0]']              \n",
      "                                                                                                  \n",
      " conv1d_48 (Conv1D)             (None, 1000, 128)    49280       ['activation_33[0][0]']          \n",
      "                                                                                                  \n",
      " activation_34 (Activation)     (None, 1000, 128)    0           ['conv1d_48[0][0]']              \n",
      "                                                                                                  \n",
      " conv1d_49 (Conv1D)             (None, 1000, 128)    49280       ['activation_34[0][0]']          \n",
      "                                                                                                  \n",
      " conv1d_46 (Conv1D)             (None, 1000, 128)    8320        ['max_pooling1d_12[0][0]']       \n",
      "                                                                                                  \n",
      " add_13 (Add)                   (None, 1000, 128)    0           ['conv1d_49[0][0]',              \n",
      "                                                                  'conv1d_46[0][0]']              \n",
      "                                                                                                  \n",
      " activation_35 (Activation)     (None, 1000, 128)    0           ['add_13[0][0]']                 \n",
      "                                                                                                  \n",
      " max_pooling1d_13 (MaxPooling1D  (None, 500, 128)    0           ['activation_35[0][0]']          \n",
      " )                                                                                                \n",
      "                                                                                                  \n",
      " conv1d_51 (Conv1D)             (None, 500, 128)     49280       ['max_pooling1d_13[0][0]']       \n",
      "                                                                                                  \n",
      " activation_36 (Activation)     (None, 500, 128)     0           ['conv1d_51[0][0]']              \n",
      "                                                                                                  \n",
      " conv1d_52 (Conv1D)             (None, 500, 128)     49280       ['activation_36[0][0]']          \n",
      "                                                                                                  \n",
      " activation_37 (Activation)     (None, 500, 128)     0           ['conv1d_52[0][0]']              \n",
      "                                                                                                  \n",
      " conv1d_53 (Conv1D)             (None, 500, 128)     49280       ['activation_37[0][0]']          \n",
      "                                                                                                  \n",
      " conv1d_50 (Conv1D)             (None, 500, 128)     16512       ['max_pooling1d_13[0][0]']       \n",
      "                                                                                                  \n",
      " add_14 (Add)                   (None, 500, 128)     0           ['conv1d_53[0][0]',              \n",
      "                                                                  'conv1d_50[0][0]']              \n",
      "                                                                                                  \n",
      " activation_38 (Activation)     (None, 500, 128)     0           ['add_14[0][0]']                 \n",
      "                                                                                                  \n",
      " max_pooling1d_14 (MaxPooling1D  (None, 250, 128)    0           ['activation_38[0][0]']          \n",
      " )                                                                                                \n",
      "                                                                                                  \n",
      " average_pooling1d_2 (AveragePo  (None, 83, 128)     0           ['max_pooling1d_14[0][0]']       \n",
      " oling1D)                                                                                         \n",
      "                                                                                                  \n",
      " flatten_2 (Flatten)            (None, 10624)        0           ['average_pooling1d_2[0][0]']    \n",
      "                                                                                                  \n",
      " dense_4 (Dense)                (None, 256)          2720000     ['flatten_2[0][0]']              \n",
      "                                                                                                  \n",
      " dense_5 (Dense)                (None, 128)          32896       ['dense_4[0][0]']                \n",
      "                                                                                                  \n",
      " output (Dense)                 (None, 228)          29412       ['dense_5[0][0]']                \n",
      "                                                                                                  \n",
      "==================================================================================================\n",
      "Total params: 3,117,364\n",
      "Trainable params: 3,117,364\n",
      "Non-trainable params: 0\n",
      "__________________________________________________________________________________________________\n"
     ]
    }
   ],
   "source": [
    "model3 = build_model((SAMPLING_RATE // 2, 1), len(class_names))\n",
    "\n",
    "model3.summary()\n",
    "\n",
    "# Compile the model using Adam's default learning rate\n",
    "model3.compile(\n",
    "    optimizer=\"Adam\", \n",
    "    loss=\"sparse_categorical_crossentropy\", \n",
    "    metrics=[\"accuracy\"]\n",
    ")\n",
    "\n",
    "# Add callbacks:\n",
    "# 'EarlyStopping' to stop training when the model is not enhancing anymore\n",
    "# 'ModelCheckPoint' to always keep the model that has the best val_accuracy\n",
    "model_save_filename = \"model3.h5\"\n",
    "\n",
    "earlystopping_cb = keras.callbacks.EarlyStopping(patience=10, restore_best_weights=True)\n",
    "mdlcheckpoint_cb = keras.callbacks.ModelCheckpoint(\n",
    "    model_save_filename, monitor=\"val_accuracy\", save_best_only=True\n",
    ")"
   ]
  },
  {
   "cell_type": "code",
   "execution_count": 16,
   "metadata": {},
   "outputs": [
    {
     "name": "stdout",
     "output_type": "stream",
     "text": [
      "Epoch 1/50\n",
      "7/7 [==============================] - 40s 4s/step - loss: 2.8689 - accuracy: 0.5596 - val_loss: 1.9253 - val_accuracy: 0.6742\n",
      "Epoch 2/50\n",
      "7/7 [==============================] - 32s 4s/step - loss: 1.0548 - accuracy: 0.6060 - val_loss: 0.6417 - val_accuracy: 0.6742\n",
      "Epoch 3/50\n",
      "7/7 [==============================] - 32s 4s/step - loss: 0.6066 - accuracy: 0.7415 - val_loss: 0.6134 - val_accuracy: 0.6742\n",
      "Epoch 4/50\n",
      "7/7 [==============================] - 31s 4s/step - loss: 0.5825 - accuracy: 0.7177 - val_loss: 0.6336 - val_accuracy: 0.6742\n",
      "Epoch 5/50\n",
      "7/7 [==============================] - 31s 4s/step - loss: 0.5446 - accuracy: 0.7415 - val_loss: 0.5782 - val_accuracy: 0.6742\n",
      "Epoch 6/50\n",
      "7/7 [==============================] - 32s 4s/step - loss: 0.5284 - accuracy: 0.7415 - val_loss: 0.6403 - val_accuracy: 0.6742\n",
      "Epoch 7/50\n",
      "7/7 [==============================] - 38s 5s/step - loss: 0.5465 - accuracy: 0.7415 - val_loss: 0.5801 - val_accuracy: 0.6742\n",
      "Epoch 8/50\n",
      "7/7 [==============================] - 34s 4s/step - loss: 0.5289 - accuracy: 0.7415 - val_loss: 0.6020 - val_accuracy: 0.6742\n",
      "Epoch 9/50\n",
      "7/7 [==============================] - 29s 3s/step - loss: 0.5253 - accuracy: 0.7390 - val_loss: 0.5843 - val_accuracy: 0.6854\n",
      "Epoch 10/50\n",
      "7/7 [==============================] - 30s 4s/step - loss: 0.5338 - accuracy: 0.7365 - val_loss: 0.5855 - val_accuracy: 0.7191\n",
      "Epoch 11/50\n",
      "7/7 [==============================] - 31s 4s/step - loss: 0.5368 - accuracy: 0.7290 - val_loss: 0.6463 - val_accuracy: 0.6742\n",
      "Epoch 12/50\n",
      "7/7 [==============================] - 32s 4s/step - loss: 0.5264 - accuracy: 0.7415 - val_loss: 0.5917 - val_accuracy: 0.6742\n",
      "Epoch 13/50\n",
      "7/7 [==============================] - 31s 4s/step - loss: 0.5221 - accuracy: 0.7465 - val_loss: 0.6067 - val_accuracy: 0.6742\n",
      "Epoch 14/50\n",
      "7/7 [==============================] - 29s 3s/step - loss: 0.5066 - accuracy: 0.7428 - val_loss: 0.5740 - val_accuracy: 0.6854\n",
      "Epoch 15/50\n",
      "7/7 [==============================] - 30s 3s/step - loss: 0.4945 - accuracy: 0.7503 - val_loss: 0.5890 - val_accuracy: 0.6517\n",
      "Epoch 16/50\n",
      "7/7 [==============================] - 29s 3s/step - loss: 0.4843 - accuracy: 0.7566 - val_loss: 0.5894 - val_accuracy: 0.6966\n",
      "Epoch 17/50\n",
      "7/7 [==============================] - 29s 3s/step - loss: 0.4841 - accuracy: 0.7478 - val_loss: 0.6282 - val_accuracy: 0.6742\n",
      "Epoch 18/50\n",
      "7/7 [==============================] - 30s 4s/step - loss: 0.4846 - accuracy: 0.7478 - val_loss: 0.6301 - val_accuracy: 0.6742\n",
      "Epoch 19/50\n",
      "7/7 [==============================] - 30s 4s/step - loss: 0.4865 - accuracy: 0.7465 - val_loss: 0.5920 - val_accuracy: 0.7191\n",
      "Epoch 20/50\n",
      "7/7 [==============================] - 29s 3s/step - loss: 0.4864 - accuracy: 0.7528 - val_loss: 0.6221 - val_accuracy: 0.6629\n",
      "Epoch 21/50\n",
      "7/7 [==============================] - 30s 4s/step - loss: 0.4720 - accuracy: 0.7591 - val_loss: 0.6334 - val_accuracy: 0.6966\n",
      "Epoch 22/50\n",
      "7/7 [==============================] - 31s 4s/step - loss: 0.4551 - accuracy: 0.7716 - val_loss: 0.6161 - val_accuracy: 0.6742\n",
      "Epoch 23/50\n",
      "7/7 [==============================] - 29s 3s/step - loss: 0.4637 - accuracy: 0.7604 - val_loss: 0.6264 - val_accuracy: 0.6854\n",
      "Epoch 24/50\n",
      "7/7 [==============================] - 34s 4s/step - loss: 0.4389 - accuracy: 0.7767 - val_loss: 0.6948 - val_accuracy: 0.6854\n"
     ]
    }
   ],
   "source": [
    "history = model3.fit(\n",
    "    train_ds3,\n",
    "    epochs=EPOCHS,\n",
    "    validation_data=valid_ds3,\n",
    "    callbacks=[earlystopping_cb, mdlcheckpoint_cb],\n",
    ")"
   ]
  },
  {
   "cell_type": "code",
   "execution_count": 17,
   "metadata": {},
   "outputs": [
    {
     "name": "stdout",
     "output_type": "stream",
     "text": [
      "3/3 [==============================] - 1s 206ms/step - loss: 0.5740 - accuracy: 0.6854\n",
      "[0.574015736579895, 0.6853932738304138]\n"
     ]
    }
   ],
   "source": [
    "print(model3.evaluate(valid_ds3))"
   ]
  }
 ],
 "metadata": {
  "kernelspec": {
   "display_name": "Python 3",
   "language": "python",
   "name": "python3"
  },
  "language_info": {
   "codemirror_mode": {
    "name": "ipython",
    "version": 3
   },
   "file_extension": ".py",
   "mimetype": "text/x-python",
   "name": "python",
   "nbconvert_exporter": "python",
   "pygments_lexer": "ipython3",
   "version": "3.10.7"
  },
  "orig_nbformat": 4,
  "vscode": {
   "interpreter": {
    "hash": "aee8b7b246df8f9039afb4144a1f6fd8d2ca17a180786b69acc140d282b71a49"
   }
  }
 },
 "nbformat": 4,
 "nbformat_minor": 2
}
